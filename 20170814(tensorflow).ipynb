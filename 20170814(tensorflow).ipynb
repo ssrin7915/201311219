{
 "cells": [
  {
   "cell_type": "markdown",
   "metadata": {},
   "source": [
    "### Tensorflow ####\n",
    "텐서플로는 2015년에 오픈 소스로 공개된 구글 브레인 팀의 머신 러닝 시스템이다. 텐서플로(TensorFlow)는 안드로이드와 iOS같은 모바일 환경은 물론 64비트 리눅스, MacOS 의 데스크탑이나 서버 시스템의 여러개의 CPU와 GPU에서 구동될 수 있다. 텐서플로 연산은 상태를 가지는 데이터 흐름(stateful dataflow) 유향 그래프로 표현된다. "
   ]
  },
  {
   "cell_type": "code",
   "execution_count": 5,
   "metadata": {},
   "outputs": [
    {
     "data": {
      "text/plain": [
       "array([ 0.5       ,  1.14242785,  1.61849757,  1.97128796,  2.23272248,\n",
       "        2.42645795,  2.57002518,  2.67641536,  2.75525556,  2.81367991,\n",
       "        2.85697514,  2.88905898,  2.91283464,  2.93045353,  2.94350997,\n",
       "        2.95318542,  2.96035539,  2.96566868,  2.96960608,  2.97252388,\n",
       "        2.97468611,  2.97628843,  2.97747582,  2.97835574,  2.9790078 ,\n",
       "        2.979491  ,  2.97984908,  2.98011444,  2.98031108,  2.98045679,\n",
       "        2.98056478,  2.9806448 ,  2.9807041 ,  2.98074805,  2.98078061,\n",
       "        2.98080474,  2.98082263,  2.98083588])"
      ]
     },
     "execution_count": 5,
     "metadata": {},
     "output_type": "execute_result"
    }
   ],
   "source": [
    "import numpy as np\n",
    "\n",
    "## 기계학습 방법\n",
    "x = np.random.uniform(-5,5,100)\n",
    "y = 2 + 3*x + np.random.normal(0,3,100)\n",
    "y_mat = np.mat(y).T\n",
    "\n",
    "# gradient descent\n",
    "init = 0.5\n",
    "alpha = 0.0003\n",
    "count = 1\n",
    "grad_list = np.array([]) #경로저장 리스트\n",
    "\n",
    "while True:\n",
    "    grad_list = np.append(grad_list,init)    \n",
    "    up = init - alpha * np.sum(init*x**2-x*y) #바뀌는 값 계산\n",
    "    if(np.abs(init - up) < 0.00001): #이전값과 비교\n",
    "        break\n",
    "    init = up #계산값 업데이트\n",
    "    count = count + 1\n",
    "\n",
    "grad_list\n"
   ]
  },
  {
   "cell_type": "code",
   "execution_count": 7,
   "metadata": {},
   "outputs": [
    {
     "name": "stdout",
     "output_type": "stream",
     "text": [
      "WARNING:tensorflow:From C:\\Users\\admin\\Anaconda3\\lib\\site-packages\\tensorflow\\python\\util\\tf_should_use.py:170: initialize_all_variables (from tensorflow.python.ops.variables) is deprecated and will be removed after 2017-03-02.\n",
      "Instructions for updating:\n",
      "Use `tf.global_variables_initializer` instead.\n",
      "0 [ 0.76636755] [ 0.02844523]\n",
      "20 [ 2.94737291] [ 0.68962896]\n",
      "40 [ 3.01402235] [ 1.1841718]\n",
      "60 [ 3.02733469] [ 1.51687801]\n",
      "80 [ 3.03555489] [ 1.73995805]\n",
      "100 [ 3.04104996] [ 1.88951695]\n",
      "120 [ 3.04473376] [ 1.98978484]\n",
      "140 [ 3.0472033] [ 2.05700707]\n",
      "160 [ 3.04885888] [ 2.10207462]\n",
      "180 [ 3.04996872] [ 2.13228893]\n",
      "200 [ 3.05071306] [ 2.15254521]\n",
      "220 [ 3.05121207] [ 2.16612554]\n",
      "240 [ 3.05154657] [ 2.17523026]\n",
      "260 [ 3.05177069] [ 2.18133426]\n",
      "280 [ 3.05192113] [ 2.18542624]\n",
      "300 [ 3.05202174] [ 2.18816972]\n",
      "320 [ 3.05208945] [ 2.1900084]\n",
      "340 [ 3.05213451] [ 2.1912415]\n",
      "360 [ 3.05216479] [ 2.19206786]\n",
      "380 [ 3.05218554] [ 2.19262218]\n",
      "400 [ 3.05219889] [ 2.19299388]\n",
      "420 [ 3.05220842] [ 2.19324303]\n",
      "440 [ 3.05221391] [ 2.19340992]\n",
      "460 [ 3.05221868] [ 2.19352221]\n",
      "480 [ 3.0522213] [ 2.19359732]\n"
     ]
    }
   ],
   "source": [
    "## 텐서 플로우\n",
    "import tensorflow as tf\n",
    "\n",
    "x = np.float32(np.array([x])) #형태만 변환\n",
    "\n",
    "# b는 0,\n",
    "b = tf.Variable(tf.zeros([1])) #추정할 값 / 비교없이 계속 업데이트\n",
    "# W는 1x2 형태의 웨이트 변수 (균등 랜덤값으로 초기화)\n",
    "W = tf.Variable(tf.random_uniform([1], -1.0, 1.0))\n",
    "y_data = W * x + b\n",
    "\n",
    "\n",
    "# 손실 함수 정의\n",
    "loss = tf.reduce_mean(tf.square(y - y_data))\n",
    "# 경사하강법으로 손실 함수를 최소화 (0.5는 학습 비율)\n",
    "optimizer = tf.train.GradientDescentOptimizer(0.01)  \n",
    "# 학습 오퍼레이션 정의\n",
    "train = optimizer.minimize(loss)\n",
    "\n",
    "# 모든 변수를 초기화.\n",
    "init = tf.initialize_all_variables()\n",
    "\n",
    "# 세션 시작\n",
    "sess = tf.Session()\n",
    "sess.run(init)\n",
    "\n",
    "# 500번 학습.\n",
    "for step in range(500):\n",
    "    sess.run(train)\n",
    "    if step % 20 == 0:\n",
    "        print(step, sess.run(W), sess.run(b))"
   ]
  },
  {
   "cell_type": "markdown",
   "metadata": {},
   "source": [
    "graph 조립단계\n",
    "\n",
    "3개의 노드 생성\n",
    "\n",
    "2개의 노드 a,b는 상수 생성\n",
    "\n",
    "1개의 노드 prod는 행렬곱 노드"
   ]
  },
  {
   "cell_type": "code",
   "execution_count": 8,
   "metadata": {
    "collapsed": true
   },
   "outputs": [],
   "source": [
    "import tensorflow as tf\n",
    "a = tf.constant([[3,3]])\n",
    "b = tf.constant([[3],[3]])\n",
    "prod = tf.matmul(a,b)"
   ]
  },
  {
   "cell_type": "markdown",
   "metadata": {},
   "source": [
    "session을 이용한 graph의 작업 수행 및 실행"
   ]
  },
  {
   "cell_type": "code",
   "execution_count": 9,
   "metadata": {
    "collapsed": true
   },
   "outputs": [],
   "source": [
    "sess = tf.Session()\n",
    "result = sess.run(prod)\n",
    "sess.close()"
   ]
  },
  {
   "cell_type": "markdown",
   "metadata": {},
   "source": [
    "variable 개념"
   ]
  },
  {
   "cell_type": "code",
   "execution_count": 10,
   "metadata": {},
   "outputs": [
    {
     "name": "stdout",
     "output_type": "stream",
     "text": [
      "0\n",
      "1\n",
      "2\n",
      "3\n"
     ]
    }
   ],
   "source": [
    "state = tf.Variable(0)\n",
    "#state variable에 1을 더하는 작업\n",
    "one = tf.constant(1) \n",
    "new_value = tf.add(state,one)\n",
    "#앞의 state를 new_value로 업데이트하는 함수\n",
    "update = tf.assign(state,new_value)\n",
    "\n",
    "init = tf.global_variables_initializer() #변수 초기화\n",
    "#-------------------------------------------------------각노드 조립\n",
    "with tf.Session() as sess:\n",
    "    sess.run(init)\n",
    "    print (sess.run(state))\n",
    "    for _ in range(3):\n",
    "        sess.run(update)\n",
    "        print (sess.run(state))\n",
    "#--------------------------------------------------------조립된 graph의 작업연산 수행"
   ]
  },
  {
   "cell_type": "code",
   "execution_count": 11,
   "metadata": {},
   "outputs": [
    {
     "name": "stdout",
     "output_type": "stream",
     "text": [
      "[array([5]), array([10])]\n"
     ]
    }
   ],
   "source": [
    "a = tf.constant([3])\n",
    "b = tf.constant([2])\n",
    "c = tf.constant([5])\n",
    "d = tf.add(a,b)\n",
    "e = tf.multiply(b,c)\n",
    "with tf.Session() as sess:\n",
    "    print(sess.run([d,e]))"
   ]
  },
  {
   "cell_type": "markdown",
   "metadata": {},
   "source": [
    "placeholder"
   ]
  },
  {
   "cell_type": "code",
   "execution_count": 12,
   "metadata": {},
   "outputs": [
    {
     "name": "stdout",
     "output_type": "stream",
     "text": [
      "[array([ 21.], dtype=float32)]\n"
     ]
    }
   ],
   "source": [
    "a = tf.placeholder(tf.float32) #들어오는 값의 형태만 지정\n",
    "b = tf.placeholder(tf.float32)\n",
    "c = tf.multiply(a,b)\n",
    "\n",
    "with tf.Session() as sess:\n",
    "    print(sess.run([c],feed_dict={a:[7],b:[3]}))"
   ]
  },
  {
   "cell_type": "markdown",
   "metadata": {},
   "source": [
    "mnist 예제"
   ]
  },
  {
   "cell_type": "code",
   "execution_count": 20,
   "metadata": {
    "collapsed": true
   },
   "outputs": [],
   "source": [
    "import tensorflow.examples.tutorials.mnist as mnist"
   ]
  },
  {
   "cell_type": "code",
   "execution_count": 21,
   "metadata": {},
   "outputs": [
    {
     "name": "stdout",
     "output_type": "stream",
     "text": [
      "Extracting d:/mnist\\train-images-idx3-ubyte.gz\n",
      "Extracting d:/mnist\\train-labels-idx1-ubyte.gz\n",
      "Extracting d:/mnist\\t10k-images-idx3-ubyte.gz\n",
      "Extracting d:/mnist\\t10k-labels-idx1-ubyte.gz\n"
     ]
    }
   ],
   "source": [
    "mnist = mnist.input_data.read_data_sets('d:/mnist',one_hot=True)"
   ]
  },
  {
   "cell_type": "code",
   "execution_count": 22,
   "metadata": {
    "collapsed": true
   },
   "outputs": [],
   "source": [
    "x = tf.placeholder(tf.float32,[None,784]) #784개의 columns\n",
    "w = tf.Variable(tf.zeros([784,10]))\n",
    "b = tf.Variable(tf.zeros([10])) #상수\n",
    "\n",
    "y = tf.nn.softmax(tf.matmul(x,w)+b) #x와 w의 매트릭스 곱에 b가 더해짐\n",
    "y_result = tf.placeholder(tf.float32,[None,10])\n",
    "\n",
    "cross_entropy = -tf.reduce_sum(y_result*tf.log(y))\n",
    "opt = tf.train.GradientDescentOptimizer(0.01)\n",
    "train = opt.minimize(cross_entropy)\n",
    "init = tf.global_variables_initializer()"
   ]
  },
  {
   "cell_type": "code",
   "execution_count": 23,
   "metadata": {},
   "outputs": [],
   "source": [
    "sess = tf.Session()\n",
    "sess.run(init)\n",
    "for _ in range(1000):\n",
    "    xs, ys = mnist.train.next_batch(100)\n",
    "    sess.run(train, feed_dict={x:xs,y_result:ys})"
   ]
  },
  {
   "cell_type": "code",
   "execution_count": 26,
   "metadata": {},
   "outputs": [
    {
     "name": "stdout",
     "output_type": "stream",
     "text": [
      "0.9043\n"
     ]
    }
   ],
   "source": [
    "correct = tf.equal(tf.argmax(y,1),tf.argmax(y_result,1)) #최대값을 1로 지정 #원본 y_result , 예측 y\n",
    "accuracy = tf.reduce_mean(tf.cast(correct,tf.float32))\n",
    "\n",
    "print(sess.run(accuracy,feed_dict={x:mnist.test.images,y_result:mnist.test.labels}))"
   ]
  },
  {
   "cell_type": "code",
   "execution_count": null,
   "metadata": {
    "collapsed": true
   },
   "outputs": [],
   "source": []
  }
 ],
 "metadata": {
  "kernelspec": {
   "display_name": "Python 3",
   "language": "python",
   "name": "python3"
  },
  "language_info": {
   "codemirror_mode": {
    "name": "ipython",
    "version": 3
   },
   "file_extension": ".py",
   "mimetype": "text/x-python",
   "name": "python",
   "nbconvert_exporter": "python",
   "pygments_lexer": "ipython3",
   "version": "3.6.1"
  }
 },
 "nbformat": 4,
 "nbformat_minor": 2
}
