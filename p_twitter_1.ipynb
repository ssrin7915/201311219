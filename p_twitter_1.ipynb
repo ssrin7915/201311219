{
 "cells": [
  {
   "cell_type": "code",
   "execution_count": 1,
   "metadata": {
    "collapsed": true
   },
   "outputs": [],
   "source": [
    "import oauth2"
   ]
  },
  {
   "cell_type": "code",
   "execution_count": 2,
   "metadata": {
    "collapsed": true
   },
   "outputs": [],
   "source": [
    "import os\n",
    "def getKey(keyPath):\n",
    "    d=dict()\n",
    "    f=open(keyPath,'r')\n",
    "    lines=f.readlines()\n",
    "    for line in lines:\n",
    "        row=line.split('=')\n",
    "        row0=row[0]\n",
    "        d[row0] =row[1].strip()\n",
    "    return d\n",
    "\n",
    "keyPath=os.path.join(os.getcwd(),'src','key.properties')\n",
    "\n",
    "key=getKey(keyPath)"
   ]
  },
  {
   "cell_type": "code",
   "execution_count": 3,
   "metadata": {
    "collapsed": false
   },
   "outputs": [
    {
     "data": {
      "text/plain": [
       "{'access_secret': '422mdhzVS1EuJqB2dmJn4GJG2UUGHNy0m0jydlXoTuL7P',\n",
       " 'access_token': '707875702230548480-C8iLJwZOWnH4NIpZyEwrM7rb9DdqpNh',\n",
       " 'api_key': 'b3O2p4SDPe1XDgeIR5K0r447Q',\n",
       " 'api_secret': 'oTBQ9L5uiNS8sV0eFARBD6mUThdryu4DBENPQVKPmhgraOTZ18',\n",
       " 'dataseoul': '476641415973736131303175436b506f',\n",
       " 'gokr': 'Fm2sgWvfqNJYcoj6MddMcyiK5i%2Bnl6zime1wMowr8XI8thqcKiIhnEmscztbzmZ%2FOXBgXQfguFiPdnXFQwY6%2FQ%3D%3D'}"
      ]
     },
     "execution_count": 3,
     "metadata": {},
     "output_type": "execute_result"
    }
   ],
   "source": [
    "key"
   ]
  },
  {
   "cell_type": "markdown",
   "metadata": {},
   "source": [
    "## POST ##"
   ]
  },
  {
   "cell_type": "code",
   "execution_count": 4,
   "metadata": {
    "collapsed": false
   },
   "outputs": [],
   "source": [
    "consumer = oauth2.Consumer(key=key['api_key'], secret=key['api_secret'])\n",
    "token=oauth2.Token(key=key['access_token'], secret=key['access_secret'])"
   ]
  },
  {
   "cell_type": "code",
   "execution_count": 5,
   "metadata": {
    "collapsed": false
   },
   "outputs": [],
   "source": [
    "client = oauth2.Client(consumer,token)"
   ]
  },
  {
   "cell_type": "code",
   "execution_count": 6,
   "metadata": {
    "collapsed": true
   },
   "outputs": [],
   "source": [
    "import urllib\n",
    "url = \"https://api.twitter.com/1.1/statuses/update.json\"\n",
    "mybody=urllib.urlencode({'status': 'Hello 161109 16:40'})\n",
    "response,content=client.request(url,method='POST',body=mybody)"
   ]
  },
  {
   "cell_type": "code",
   "execution_count": 7,
   "metadata": {
    "collapsed": false
   },
   "outputs": [
    {
     "name": "stdout",
     "output_type": "stream",
     "text": [
      "{'content-length': '1892', 'x-tsa-request-body-time': '0', 'x-xss-protection': '1; mode=block', 'x-content-type-options': 'nosniff', 'x-connection-hash': '7abf8dbe5c423a702d996c8acf01dfdd', 'x-twitter-response-tags': 'BouncerCompliant', 'cache-control': 'no-cache, no-store, must-revalidate, pre-check=0, post-check=0', 'status': '200', 'content-disposition': 'attachment; filename=json.json', 'set-cookie': 'lang=ko; Path=/, guest_id=v1%3A147909276306593553; Domain=.twitter.com; Path=/; Expires=Wed, 14-Nov-2018 03:06:03 UTC', 'expires': 'Tue, 31 Mar 1981 05:00:00 GMT', 'x-access-level': 'read-write', 'last-modified': 'Mon, 14 Nov 2016 03:06:03 GMT', '-content-encoding': 'gzip', 'pragma': 'no-cache', 'date': 'Mon, 14 Nov 2016 03:06:03 GMT', 'x-response-time': '94', 'x-transaction': '00626db400a6e195', 'strict-transport-security': 'max-age=631138519', 'server': 'tsa_a', 'x-frame-options': 'SAMEORIGIN', 'content-type': 'application/json;charset=utf-8'}\n"
     ]
    }
   ],
   "source": [
    "print response"
   ]
  },
  {
   "cell_type": "code",
   "execution_count": 10,
   "metadata": {
    "collapsed": false
   },
   "outputs": [
    {
     "data": {
      "text/plain": [
       "'\"{\\\\\"created_at\\\\\":\\\\\"Mon Nov 14 03:06:03 +0000 2016\\\\\",\\\\\"id\\\\\":797999002989903872,\\\\\"id_str\\\\\":\\\\\"797999002989903872\\\\\",\\\\\"text\\\\\":\\\\\"Hello 161109 16:40\\\\\",\\\\\"truncated\\\\\":false,\\\\\"entities\\\\\":{\\\\\"hashtags\\\\\":[],\\\\\"symbols\\\\\":[],\\\\\"user_mentions\\\\\":[],\\\\\"urls\\\\\":[]},\\\\\"source\\\\\":\\\\\"\\\\\\\\u003ca href=\\\\\\\\\\\\\"https:\\\\\\\\/\\\\\\\\/twitter.com\\\\\\\\/sim3272\\\\\\\\\\\\\" rel=\\\\\\\\\\\\\"nofollow\\\\\\\\\\\\\"\\\\\\\\u003eBigData_mytwitterApp\\\\\\\\u003c\\\\\\\\/a\\\\\\\\u003e\\\\\",\\\\\"in_reply_to_status_id\\\\\":null,\\\\\"in_reply_to_status_id_str\\\\\":null,\\\\\"in_reply_to_user_id\\\\\":null,\\\\\"in_reply_to_user_id_str\\\\\":null,\\\\\"in_reply_to_screen_name\\\\\":null,\\\\\"user\\\\\":{\\\\\"id\\\\\":707875702230548480,\\\\\"id_str\\\\\":\\\\\"707875702230548480\\\\\",\\\\\"name\\\\\":\\\\\"\\\\\\\\uc2ec\\\\\\\\uc138\\\\\\\\ub9b0\\\\\",\\\\\"screen_name\\\\\":\\\\\"sim3272\\\\\",\\\\\"location\\\\\":\\\\\"\\\\\",\\\\\"description\\\\\":\\\\\"\\\\\",\\\\\"url\\\\\":null,\\\\\"entities\\\\\":{\\\\\"description\\\\\":{\\\\\"urls\\\\\":[]}},\\\\\"protected\\\\\":false,\\\\\"followers_count\\\\\":2,\\\\\"friends_count\\\\\":2,\\\\\"listed_count\\\\\":1,\\\\\"created_at\\\\\":\\\\\"Thu Mar 10 10:28:13 +0000 2016\\\\\",\\\\\"favourites_count\\\\\":0,\\\\\"utc_offset\\\\\":null,\\\\\"time_zone\\\\\":null,\\\\\"geo_enabled\\\\\":false,\\\\\"verified\\\\\":false,\\\\\"statuses_count\\\\\":4,\\\\\"lang\\\\\":\\\\\"ko\\\\\",\\\\\"contributors_enabled\\\\\":false,\\\\\"is_translator\\\\\":false,\\\\\"is_translation_enabled\\\\\":false,\\\\\"profile_background_color\\\\\":\\\\\"F5F8FA\\\\\",\\\\\"profile_background_image_url\\\\\":null,\\\\\"profile_background_image_url_https\\\\\":null,\\\\\"profile_background_tile\\\\\":false,\\\\\"profile_image_url\\\\\":\\\\\"http:\\\\\\\\/\\\\\\\\/abs.twimg.com\\\\\\\\/sticky\\\\\\\\/default_profile_images\\\\\\\\/default_profile_6_normal.png\\\\\",\\\\\"profile_image_url_https\\\\\":\\\\\"https:\\\\\\\\/\\\\\\\\/abs.twimg.com\\\\\\\\/sticky\\\\\\\\/default_profile_images\\\\\\\\/default_profile_6_normal.png\\\\\",\\\\\"profile_link_color\\\\\":\\\\\"1DA1F2\\\\\",\\\\\"profile_sidebar_border_color\\\\\":\\\\\"C0DEED\\\\\",\\\\\"profile_sidebar_fill_color\\\\\":\\\\\"DDEEF6\\\\\",\\\\\"profile_text_color\\\\\":\\\\\"333333\\\\\",\\\\\"profile_use_background_image\\\\\":true,\\\\\"has_extended_profile\\\\\":false,\\\\\"default_profile\\\\\":true,\\\\\"default_profile_image\\\\\":true,\\\\\"following\\\\\":false,\\\\\"follow_request_sent\\\\\":false,\\\\\"notifications\\\\\":false,\\\\\"translator_type\\\\\":\\\\\"none\\\\\"},\\\\\"geo\\\\\":null,\\\\\"coordinates\\\\\":null,\\\\\"place\\\\\":null,\\\\\"contributors\\\\\":null,\\\\\"is_quote_status\\\\\":false,\\\\\"retweet_count\\\\\":0,\\\\\"favorite_count\\\\\":0,\\\\\"favorited\\\\\":false,\\\\\"retweeted\\\\\":false,\\\\\"lang\\\\\":\\\\\"en\\\\\"}\"'"
      ]
     },
     "execution_count": 10,
     "metadata": {},
     "output_type": "execute_result"
    }
   ],
   "source": [
    "json.dumps(content)"
   ]
  },
  {
   "cell_type": "code",
   "execution_count": 9,
   "metadata": {
    "collapsed": false
   },
   "outputs": [],
   "source": [
    "import json\n",
    "import io\n",
    "with io.open('src/ds_twitter_1.json', 'w', encoding='utf8') as json_file:\n",
    "    data=json.dumps(content, json_file, ensure_ascii=False, encoding='utf8')\n",
    "    json_file.write(data)"
   ]
  },
  {
   "cell_type": "markdown",
   "metadata": {},
   "source": [
    "## 타임라인 읽어오기 ##"
   ]
  },
  {
   "cell_type": "code",
   "execution_count": 11,
   "metadata": {
    "collapsed": true
   },
   "outputs": [],
   "source": [
    "from pymongo import MongoClient"
   ]
  },
  {
   "cell_type": "code",
   "execution_count": 12,
   "metadata": {
    "collapsed": true
   },
   "outputs": [],
   "source": [
    "_mclient = MongoClient()"
   ]
  },
  {
   "cell_type": "code",
   "execution_count": 13,
   "metadata": {
    "collapsed": false
   },
   "outputs": [
    {
     "data": {
      "text/plain": [
       "Database(MongoClient(host=['localhost:27017'], document_class=dict, tz_aware=False, connect=True), u'ds_twitter')"
      ]
     },
     "execution_count": 13,
     "metadata": {},
     "output_type": "execute_result"
    }
   ],
   "source": [
    "_mclient['ds_twitter']"
   ]
  },
  {
   "cell_type": "code",
   "execution_count": 14,
   "metadata": {
    "collapsed": true
   },
   "outputs": [],
   "source": [
    "_db=_mclient.ds_twitter"
   ]
  },
  {
   "cell_type": "code",
   "execution_count": 15,
   "metadata": {
    "collapsed": true
   },
   "outputs": [],
   "source": [
    "_col=_db.home_timeline"
   ]
  },
  {
   "cell_type": "code",
   "execution_count": 16,
   "metadata": {
    "collapsed": true
   },
   "outputs": [],
   "source": [
    "url=\"https://api.twitter.com/1.1/statuses/home_timeline.json\""
   ]
  },
  {
   "cell_type": "code",
   "execution_count": 17,
   "metadata": {
    "collapsed": true
   },
   "outputs": [],
   "source": [
    "response, content=client.request(url)"
   ]
  },
  {
   "cell_type": "code",
   "execution_count": 18,
   "metadata": {
    "collapsed": false
   },
   "outputs": [],
   "source": [
    "home_timeline=json.loads(content)"
   ]
  },
  {
   "cell_type": "code",
   "execution_count": 19,
   "metadata": {
    "collapsed": false
   },
   "outputs": [
    {
     "data": {
      "text/plain": [
       "u'Hello 161109 16:40'"
      ]
     },
     "execution_count": 19,
     "metadata": {},
     "output_type": "execute_result"
    }
   ],
   "source": [
    "home_timeline[0]['text']"
   ]
  },
  {
   "cell_type": "code",
   "execution_count": 30,
   "metadata": {
    "collapsed": false
   },
   "outputs": [
    {
     "data": {
      "text/plain": [
       "20"
      ]
     },
     "execution_count": 30,
     "metadata": {},
     "output_type": "execute_result"
    }
   ],
   "source": [
    "len(home_timeline)"
   ]
  },
  {
   "cell_type": "code",
   "execution_count": 33,
   "metadata": {
    "collapsed": false
   },
   "outputs": [
    {
     "name": "stdout",
     "output_type": "stream",
     "text": [
      "796256264808316928 Hello 161109 16:40\n",
      "796245957469872128 Hello !!\n",
      "789379179657560064 #ED2016 [중간고사] 시험장소 G207 확정입니다. 시험시간은 5시예요.\n",
      "787818155796156416 #ED2016 [공학설계공지] 오늘은 지금까지 배운거 리뷰하는 시간을 갖습니다. 1시간 정도만하고 빠이할 생각입니다. 출석체크는 하지 않아요. 수업들어와서 다른 시험공부해도 무방합니다. 이상 끝. 좀이따들 봅시다~\n",
      "778456684289069056 #ED2016 구글에서 구글드라이브 한글 문제 해결하기 전까지 https://t.co/DFuBLuK4Fx 요 브라우저를 사용해보세요. 국내산입니다. ㅎ 구글문서 한글 문제 없는거 확인했어요~\n",
      "778409194760179713 #ED2016 구글문서 한글 입력 문제있다는 친구들 기사보세요. 구글독스, 한글 입력 오류…스페이스 바 누르면 삭제 https://t.co/0uKKeifcmI\n",
      "772944176027578368 #ED2016 sangjun9709@gmail.net, melissa.silly@gmail.com, hansomo81@gmail.com 이 계정 문제가 좀 있나봅니다. 해당계정이 본인인 친구들은 구글공유 잘 되었는지 확인바래요.\n",
      "772792294739017728 저도 사진 올렸습니다 ㅎㅎ #ED2016\n",
      "772715579014651905 #ED2016 안녕하세요.\n",
      "743683998744903680 #OS2016 [운영체제] 시험 3:30부터 시작이요. N301 - 10, 11, 12학번 시험\n",
      "N302 - 13, 14학번 시험 장소입니다. 트윗늦어서 미안합니다. 다들 시험 화이팅!\n",
      "743683858206359553 #OS2016 [운영체제] 시험 3:30부터 시작이요. N301 - 10, 11, 12학번 시험\n",
      "N302 - 13, 14학번 시험 장소입니다. 트윗늦어서 미안합니다. 다들 시험 화이팅\n",
      "741894780586582016 #OS2016 [운영체제] 6장연습문제 23번(p.286) 작업1의 &lt;CPU 사용 시간&gt;이 3이 아니라 23입니다. 저자에게 오탈자 확인요청했습니다.\n",
      "741131349545897984 #OS2016 3:30 수업.\n",
      "738536846464950276 #OS2016 [운영체제 공지] 금일 휴강이요 ㅜㅡ 다음주에 봐요.\n",
      "736031832416755713 #OS2016 [운영체제] 3:30분이요. 맛점들하세요~\n",
      "733519490378403841 #OS2016 [운영체제] 오들도 역시나 3:30 시작 ㅡ,.ㅡ\n",
      "730977288716615682 #OS2016 [운영체제] 15:30 시작이요~\n",
      "725914847062282240 #OS2016 [운영체제 공지] 3:30분에 수업 시작할께요~\n",
      "723374243463892993 #OS2016 [운영체제-중간고사] N311, N312 두 강의실에서 시험을 치룹니다. N311은 10,11,12학번들 입실하시고요. N312는 13, 14학번 입실하면 됩니다. 시험 시작은 15:30분입니다. 제가 참석할수 없어 조교님들 보냅니다.\n",
      "721743437712596992 #OS2016 [운영체제 중간고사] 범위는 4장 세마포어 전까지. 문제는 OX형, 단답형, 주관형이고 20~25문정도 제출할 예정. 연습문제 많이 풀고 오세요. 연습문제 캡처 이미지 구글드라이브 OT문서에 올렸습니다.\n"
     ]
    }
   ],
   "source": [
    "for tweet in home_timeline:\n",
    "    print tweet['id'],tweet['text']"
   ]
  },
  {
   "cell_type": "code",
   "execution_count": 32,
   "metadata": {
    "collapsed": false
   },
   "outputs": [
    {
     "name": "stdout",
     "output_type": "stream",
     "text": [
      "[{u'contributors': None, u'truncated': False, u'text': u'Hello 161109 16:40', u'is_quote_status': False, u'in_reply_to_status_id': None, u'id': 796256264808316928L, u'favorite_count': 0, u'source': u'<a href=\"https://twitter.com/sim3272\" rel=\"nofollow\">BigData_mytwitterApp</a>', u'retweeted': False, u'coordinates': None, u'entities': {u'symbols': [], u'user_mentions': [], u'hashtags': [], u'urls': []}, u'in_reply_to_screen_name': None, u'in_reply_to_user_id': None, u'retweet_count': 0, u'id_str': u'796256264808316928', u'favorited': False, u'user': {u'follow_request_sent': False, u'has_extended_profile': False, u'profile_use_background_image': True, u'default_profile_image': True, u'id': 707875702230548480L, u'profile_background_image_url_https': None, u'verified': False, u'translator_type': u'none', u'profile_text_color': u'333333', u'profile_image_url_https': u'https://abs.twimg.com/sticky/default_profile_images/default_profile_6_normal.png', u'profile_sidebar_fill_color': u'DDEEF6', u'entities': {u'description': {u'urls': []}}, u'followers_count': 2, u'profile_sidebar_border_color': u'C0DEED', u'id_str': u'707875702230548480', u'profile_background_color': u'F5F8FA', u'listed_count': 1, u'is_translation_enabled': False, u'utc_offset': None, u'statuses_count': 3, u'description': u'', u'friends_count': 2, u'location': u'', u'profile_link_color': u'1DA1F2', u'profile_image_url': u'http://abs.twimg.com/sticky/default_profile_images/default_profile_6_normal.png', u'following': False, u'geo_enabled': False, u'profile_background_image_url': None, u'screen_name': u'sim3272', u'lang': u'ko', u'profile_background_tile': False, u'favourites_count': 0, u'name': u'\\uc2ec\\uc138\\ub9b0', u'notifications': False, u'url': None, u'created_at': u'Thu Mar 10 10:28:13 +0000 2016', u'contributors_enabled': False, u'time_zone': None, u'protected': False, u'default_profile': True, u'is_translator': False}, u'geo': None, u'in_reply_to_user_id_str': None, u'lang': u'en', u'created_at': u'Wed Nov 09 07:41:01 +0000 2016', u'in_reply_to_status_id_str': None, u'place': None}, {u'contributors': None, u'truncated': False, u'text': u'Hello !!', u'is_quote_status': False, u'in_reply_to_status_id': None, u'id': 796245957469872128L, u'favorite_count': 0, u'source': u'<a href=\"https://twitter.com/sim3272\" rel=\"nofollow\">BigData_mytwitterApp</a>', u'retweeted': False, u'coordinates': None, u'entities': {u'symbols': [], u'user_mentions': [], u'hashtags': [], u'urls': []}, u'in_reply_to_screen_name': None, u'in_reply_to_user_id': None, u'retweet_count': 0, u'id_str': u'796245957469872128', u'favorited': False, u'user': {u'follow_request_sent': False, u'has_extended_profile': False, u'profile_use_background_image': True, u'default_profile_image': True, u'id': 707875702230548480L, u'profile_background_image_url_https': None, u'verified': False, u'translator_type': u'none', u'profile_text_color': u'333333', u'profile_image_url_https': u'https://abs.twimg.com/sticky/default_profile_images/default_profile_6_normal.png', u'profile_sidebar_fill_color': u'DDEEF6', u'entities': {u'description': {u'urls': []}}, u'followers_count': 2, u'profile_sidebar_border_color': u'C0DEED', u'id_str': u'707875702230548480', u'profile_background_color': u'F5F8FA', u'listed_count': 1, u'is_translation_enabled': False, u'utc_offset': None, u'statuses_count': 3, u'description': u'', u'friends_count': 2, u'location': u'', u'profile_link_color': u'1DA1F2', u'profile_image_url': u'http://abs.twimg.com/sticky/default_profile_images/default_profile_6_normal.png', u'following': False, u'geo_enabled': False, u'profile_background_image_url': None, u'screen_name': u'sim3272', u'lang': u'ko', u'profile_background_tile': False, u'favourites_count': 0, u'name': u'\\uc2ec\\uc138\\ub9b0', u'notifications': False, u'url': None, u'created_at': u'Thu Mar 10 10:28:13 +0000 2016', u'contributors_enabled': False, u'time_zone': None, u'protected': False, u'default_profile': True, u'is_translator': False}, u'geo': None, u'in_reply_to_user_id_str': None, u'lang': u'en', u'created_at': u'Wed Nov 09 07:00:04 +0000 2016', u'in_reply_to_status_id_str': None, u'place': None}, {u'contributors': None, u'truncated': False, u'text': u'#ED2016 [\\uc911\\uac04\\uace0\\uc0ac] \\uc2dc\\ud5d8\\uc7a5\\uc18c G207 \\ud655\\uc815\\uc785\\ub2c8\\ub2e4. \\uc2dc\\ud5d8\\uc2dc\\uac04\\uc740 5\\uc2dc\\uc608\\uc694.', u'is_quote_status': False, u'in_reply_to_status_id': None, u'id': 789379179657560064L, u'favorite_count': 0, u'source': u'<a href=\"http://twitter.com\" rel=\"nofollow\">Twitter Web Client</a>', u'retweeted': False, u'coordinates': None, u'entities': {u'symbols': [], u'user_mentions': [], u'hashtags': [{u'indices': [0, 7], u'text': u'ED2016'}], u'urls': []}, u'in_reply_to_screen_name': None, u'in_reply_to_user_id': None, u'retweet_count': 0, u'id_str': u'789379179657560064', u'favorited': False, u'user': {u'follow_request_sent': False, u'has_extended_profile': False, u'profile_use_background_image': True, u'default_profile_image': False, u'id': 71124270, u'profile_background_image_url_https': u'https://abs.twimg.com/images/themes/theme13/bg.gif', u'verified': False, u'translator_type': u'none', u'profile_text_color': u'333333', u'profile_image_url_https': u'https://pbs.twimg.com/profile_images/772791597087858688/JQxpv08B_normal.jpg', u'profile_sidebar_fill_color': u'FFFFFF', u'entities': {u'description': {u'urls': []}}, u'followers_count': 565, u'profile_sidebar_border_color': u'EEEEEE', u'id_str': u'71124270', u'profile_background_color': u'B2DFDA', u'listed_count': 7, u'is_translation_enabled': False, u'utc_offset': 32400, u'statuses_count': 1479, u'description': u'\\uc18c\\ud504\\ud2b8\\uc6e8\\uc5b4\\uacf5\\ud559\\uc744 \\uae30\\ubc18\\uc73c\\ub85c \\uc18c\\uc15c\\ub124\\ud2b8\\uc6cc\\ud06c \\ubd84\\uc11d, \\uacf5\\uac04\\ubd84\\uc11d, \\ub370\\uc774\\ud130 \\uc2dc\\uac01\\ud654\\uc5d0 \\uad00\\uc2ec.', u'friends_count': 559, u'location': u'Seoul', u'profile_link_color': u'93A644', u'profile_image_url': u'http://pbs.twimg.com/profile_images/772791597087858688/JQxpv08B_normal.jpg', u'following': True, u'geo_enabled': True, u'profile_background_image_url': u'http://abs.twimg.com/images/themes/theme13/bg.gif', u'screen_name': u'DM_SMU', u'lang': u'ko', u'profile_background_tile': False, u'favourites_count': 41, u'name': u'\\uae40\\uc9c4\\ub9cc', u'notifications': True, u'url': None, u'created_at': u'Thu Sep 03 00:35:01 +0000 2009', u'contributors_enabled': False, u'time_zone': u'Seoul', u'protected': False, u'default_profile': False, u'is_translator': False}, u'geo': None, u'in_reply_to_user_id_str': None, u'lang': u'ko', u'created_at': u'Fri Oct 21 08:13:57 +0000 2016', u'in_reply_to_status_id_str': None, u'place': None}, {u'contributors': None, u'truncated': False, u'text': u'#ED2016 [\\uacf5\\ud559\\uc124\\uacc4\\uacf5\\uc9c0] \\uc624\\ub298\\uc740 \\uc9c0\\uae08\\uae4c\\uc9c0 \\ubc30\\uc6b4\\uac70 \\ub9ac\\ubdf0\\ud558\\ub294 \\uc2dc\\uac04\\uc744 \\uac16\\uc2b5\\ub2c8\\ub2e4. 1\\uc2dc\\uac04 \\uc815\\ub3c4\\ub9cc\\ud558\\uace0 \\ube60\\uc774\\ud560 \\uc0dd\\uac01\\uc785\\ub2c8\\ub2e4. \\ucd9c\\uc11d\\uccb4\\ud06c\\ub294 \\ud558\\uc9c0 \\uc54a\\uc544\\uc694. \\uc218\\uc5c5\\ub4e4\\uc5b4\\uc640\\uc11c \\ub2e4\\ub978 \\uc2dc\\ud5d8\\uacf5\\ubd80\\ud574\\ub3c4 \\ubb34\\ubc29\\ud569\\ub2c8\\ub2e4. \\uc774\\uc0c1 \\ub05d. \\uc880\\uc774\\ub530\\ub4e4 \\ubd05\\uc2dc\\ub2e4~', u'is_quote_status': False, u'in_reply_to_status_id': None, u'id': 787818155796156416L, u'favorite_count': 0, u'source': u'<a href=\"http://twitter.com\" rel=\"nofollow\">Twitter Web Client</a>', u'retweeted': False, u'coordinates': None, u'entities': {u'symbols': [], u'user_mentions': [], u'hashtags': [{u'indices': [0, 7], u'text': u'ED2016'}], u'urls': []}, u'in_reply_to_screen_name': None, u'in_reply_to_user_id': None, u'retweet_count': 0, u'id_str': u'787818155796156416', u'favorited': False, u'user': {u'follow_request_sent': False, u'has_extended_profile': False, u'profile_use_background_image': True, u'default_profile_image': False, u'id': 71124270, u'profile_background_image_url_https': u'https://abs.twimg.com/images/themes/theme13/bg.gif', u'verified': False, u'translator_type': u'none', u'profile_text_color': u'333333', u'profile_image_url_https': u'https://pbs.twimg.com/profile_images/772791597087858688/JQxpv08B_normal.jpg', u'profile_sidebar_fill_color': u'FFFFFF', u'entities': {u'description': {u'urls': []}}, u'followers_count': 565, u'profile_sidebar_border_color': u'EEEEEE', u'id_str': u'71124270', u'profile_background_color': u'B2DFDA', u'listed_count': 7, u'is_translation_enabled': False, u'utc_offset': 32400, u'statuses_count': 1479, u'description': u'\\uc18c\\ud504\\ud2b8\\uc6e8\\uc5b4\\uacf5\\ud559\\uc744 \\uae30\\ubc18\\uc73c\\ub85c \\uc18c\\uc15c\\ub124\\ud2b8\\uc6cc\\ud06c \\ubd84\\uc11d, \\uacf5\\uac04\\ubd84\\uc11d, \\ub370\\uc774\\ud130 \\uc2dc\\uac01\\ud654\\uc5d0 \\uad00\\uc2ec.', u'friends_count': 559, u'location': u'Seoul', u'profile_link_color': u'93A644', u'profile_image_url': u'http://pbs.twimg.com/profile_images/772791597087858688/JQxpv08B_normal.jpg', u'following': True, u'geo_enabled': True, u'profile_background_image_url': u'http://abs.twimg.com/images/themes/theme13/bg.gif', u'screen_name': u'DM_SMU', u'lang': u'ko', u'profile_background_tile': False, u'favourites_count': 41, u'name': u'\\uae40\\uc9c4\\ub9cc', u'notifications': True, u'url': None, u'created_at': u'Thu Sep 03 00:35:01 +0000 2009', u'contributors_enabled': False, u'time_zone': u'Seoul', u'protected': False, u'default_profile': False, u'is_translator': False}, u'geo': None, u'in_reply_to_user_id_str': None, u'lang': u'ko', u'created_at': u'Mon Oct 17 00:50:59 +0000 2016', u'in_reply_to_status_id_str': None, u'place': None}, {u'contributors': None, u'truncated': False, u'text': u'#ED2016 \\uad6c\\uae00\\uc5d0\\uc11c \\uad6c\\uae00\\ub4dc\\ub77c\\uc774\\ube0c \\ud55c\\uae00 \\ubb38\\uc81c \\ud574\\uacb0\\ud558\\uae30 \\uc804\\uae4c\\uc9c0 https://t.co/DFuBLuK4Fx \\uc694 \\ube0c\\ub77c\\uc6b0\\uc800\\ub97c \\uc0ac\\uc6a9\\ud574\\ubcf4\\uc138\\uc694. \\uad6d\\ub0b4\\uc0b0\\uc785\\ub2c8\\ub2e4. \\u314e \\uad6c\\uae00\\ubb38\\uc11c \\ud55c\\uae00 \\ubb38\\uc81c \\uc5c6\\ub294\\uac70 \\ud655\\uc778\\ud588\\uc5b4\\uc694~', u'is_quote_status': False, u'in_reply_to_status_id': None, u'id': 778456684289069056L, u'favorite_count': 0, u'source': u'<a href=\"http://twitter.com\" rel=\"nofollow\">Twitter Web Client</a>', u'retweeted': False, u'coordinates': None, u'entities': {u'symbols': [], u'user_mentions': [], u'hashtags': [{u'indices': [0, 7], u'text': u'ED2016'}], u'urls': [{u'url': u'https://t.co/DFuBLuK4Fx', u'indices': [35, 58], u'expanded_url': u'http://swing-browser.com/', u'display_url': u'swing-browser.com'}]}, u'in_reply_to_screen_name': None, u'in_reply_to_user_id': None, u'retweet_count': 0, u'id_str': u'778456684289069056', u'favorited': False, u'user': {u'follow_request_sent': False, u'has_extended_profile': False, u'profile_use_background_image': True, u'default_profile_image': False, u'id': 71124270, u'profile_background_image_url_https': u'https://abs.twimg.com/images/themes/theme13/bg.gif', u'verified': False, u'translator_type': u'none', u'profile_text_color': u'333333', u'profile_image_url_https': u'https://pbs.twimg.com/profile_images/772791597087858688/JQxpv08B_normal.jpg', u'profile_sidebar_fill_color': u'FFFFFF', u'entities': {u'description': {u'urls': []}}, u'followers_count': 565, u'profile_sidebar_border_color': u'EEEEEE', u'id_str': u'71124270', u'profile_background_color': u'B2DFDA', u'listed_count': 7, u'is_translation_enabled': False, u'utc_offset': 32400, u'statuses_count': 1479, u'description': u'\\uc18c\\ud504\\ud2b8\\uc6e8\\uc5b4\\uacf5\\ud559\\uc744 \\uae30\\ubc18\\uc73c\\ub85c \\uc18c\\uc15c\\ub124\\ud2b8\\uc6cc\\ud06c \\ubd84\\uc11d, \\uacf5\\uac04\\ubd84\\uc11d, \\ub370\\uc774\\ud130 \\uc2dc\\uac01\\ud654\\uc5d0 \\uad00\\uc2ec.', u'friends_count': 559, u'location': u'Seoul', u'profile_link_color': u'93A644', u'profile_image_url': u'http://pbs.twimg.com/profile_images/772791597087858688/JQxpv08B_normal.jpg', u'following': True, u'geo_enabled': True, u'profile_background_image_url': u'http://abs.twimg.com/images/themes/theme13/bg.gif', u'screen_name': u'DM_SMU', u'lang': u'ko', u'profile_background_tile': False, u'favourites_count': 41, u'name': u'\\uae40\\uc9c4\\ub9cc', u'notifications': True, u'url': None, u'created_at': u'Thu Sep 03 00:35:01 +0000 2009', u'contributors_enabled': False, u'time_zone': u'Seoul', u'protected': False, u'default_profile': False, u'is_translator': False}, u'geo': None, u'in_reply_to_user_id_str': None, u'possibly_sensitive': False, u'possibly_sensitive_appealable': False, u'lang': u'ko', u'created_at': u'Wed Sep 21 04:51:51 +0000 2016', u'in_reply_to_status_id_str': None, u'place': None}, {u'contributors': None, u'truncated': False, u'text': u'#ED2016 \\uad6c\\uae00\\ubb38\\uc11c \\ud55c\\uae00 \\uc785\\ub825 \\ubb38\\uc81c\\uc788\\ub2e4\\ub294 \\uce5c\\uad6c\\ub4e4 \\uae30\\uc0ac\\ubcf4\\uc138\\uc694. \\uad6c\\uae00\\ub3c5\\uc2a4, \\ud55c\\uae00 \\uc785\\ub825 \\uc624\\ub958\\u2026\\uc2a4\\ud398\\uc774\\uc2a4 \\ubc14 \\ub204\\ub974\\uba74 \\uc0ad\\uc81c https://t.co/0uKKeifcmI', u'is_quote_status': False, u'in_reply_to_status_id': None, u'id': 778409194760179713L, u'favorite_count': 0, u'source': u'<a href=\"http://twitter.com\" rel=\"nofollow\">Twitter Web Client</a>', u'retweeted': False, u'coordinates': None, u'entities': {u'symbols': [], u'user_mentions': [], u'hashtags': [{u'indices': [0, 7], u'text': u'ED2016'}], u'urls': [{u'url': u'https://t.co/0uKKeifcmI', u'indices': [65, 88], u'expanded_url': u'http://www.yonhapnews.co.kr/bulletin/2016/09/19/0200000000AKR20160919136600017.HTML?input=www.twitter.com', u'display_url': u'yonhapnews.co.kr/bulletin/2016/\\u2026'}]}, u'in_reply_to_screen_name': None, u'in_reply_to_user_id': None, u'retweet_count': 0, u'id_str': u'778409194760179713', u'favorited': False, u'user': {u'follow_request_sent': False, u'has_extended_profile': False, u'profile_use_background_image': True, u'default_profile_image': False, u'id': 71124270, u'profile_background_image_url_https': u'https://abs.twimg.com/images/themes/theme13/bg.gif', u'verified': False, u'translator_type': u'none', u'profile_text_color': u'333333', u'profile_image_url_https': u'https://pbs.twimg.com/profile_images/772791597087858688/JQxpv08B_normal.jpg', u'profile_sidebar_fill_color': u'FFFFFF', u'entities': {u'description': {u'urls': []}}, u'followers_count': 565, u'profile_sidebar_border_color': u'EEEEEE', u'id_str': u'71124270', u'profile_background_color': u'B2DFDA', u'listed_count': 7, u'is_translation_enabled': False, u'utc_offset': 32400, u'statuses_count': 1479, u'description': u'\\uc18c\\ud504\\ud2b8\\uc6e8\\uc5b4\\uacf5\\ud559\\uc744 \\uae30\\ubc18\\uc73c\\ub85c \\uc18c\\uc15c\\ub124\\ud2b8\\uc6cc\\ud06c \\ubd84\\uc11d, \\uacf5\\uac04\\ubd84\\uc11d, \\ub370\\uc774\\ud130 \\uc2dc\\uac01\\ud654\\uc5d0 \\uad00\\uc2ec.', u'friends_count': 559, u'location': u'Seoul', u'profile_link_color': u'93A644', u'profile_image_url': u'http://pbs.twimg.com/profile_images/772791597087858688/JQxpv08B_normal.jpg', u'following': True, u'geo_enabled': True, u'profile_background_image_url': u'http://abs.twimg.com/images/themes/theme13/bg.gif', u'screen_name': u'DM_SMU', u'lang': u'ko', u'profile_background_tile': False, u'favourites_count': 41, u'name': u'\\uae40\\uc9c4\\ub9cc', u'notifications': True, u'url': None, u'created_at': u'Thu Sep 03 00:35:01 +0000 2009', u'contributors_enabled': False, u'time_zone': u'Seoul', u'protected': False, u'default_profile': False, u'is_translator': False}, u'geo': None, u'in_reply_to_user_id_str': None, u'possibly_sensitive': False, u'possibly_sensitive_appealable': False, u'lang': u'ko', u'created_at': u'Wed Sep 21 01:43:08 +0000 2016', u'in_reply_to_status_id_str': None, u'place': None}, {u'contributors': None, u'truncated': False, u'text': u'#ED2016 sangjun9709@gmail.net, melissa.silly@gmail.com, hansomo81@gmail.com \\uc774 \\uacc4\\uc815 \\ubb38\\uc81c\\uac00 \\uc880 \\uc788\\ub098\\ubd05\\ub2c8\\ub2e4. \\ud574\\ub2f9\\uacc4\\uc815\\uc774 \\ubcf8\\uc778\\uc778 \\uce5c\\uad6c\\ub4e4\\uc740 \\uad6c\\uae00\\uacf5\\uc720 \\uc798 \\ub418\\uc5c8\\ub294\\uc9c0 \\ud655\\uc778\\ubc14\\ub798\\uc694.', u'is_quote_status': False, u'in_reply_to_status_id': None, u'id': 772944176027578368L, u'favorite_count': 0, u'source': u'<a href=\"http://twitter.com\" rel=\"nofollow\">Twitter Web Client</a>', u'retweeted': False, u'coordinates': None, u'entities': {u'symbols': [], u'user_mentions': [], u'hashtags': [{u'indices': [0, 7], u'text': u'ED2016'}], u'urls': []}, u'in_reply_to_screen_name': None, u'in_reply_to_user_id': None, u'retweet_count': 0, u'id_str': u'772944176027578368', u'favorited': False, u'user': {u'follow_request_sent': False, u'has_extended_profile': False, u'profile_use_background_image': True, u'default_profile_image': False, u'id': 71124270, u'profile_background_image_url_https': u'https://abs.twimg.com/images/themes/theme13/bg.gif', u'verified': False, u'translator_type': u'none', u'profile_text_color': u'333333', u'profile_image_url_https': u'https://pbs.twimg.com/profile_images/772791597087858688/JQxpv08B_normal.jpg', u'profile_sidebar_fill_color': u'FFFFFF', u'entities': {u'description': {u'urls': []}}, u'followers_count': 565, u'profile_sidebar_border_color': u'EEEEEE', u'id_str': u'71124270', u'profile_background_color': u'B2DFDA', u'listed_count': 7, u'is_translation_enabled': False, u'utc_offset': 32400, u'statuses_count': 1479, u'description': u'\\uc18c\\ud504\\ud2b8\\uc6e8\\uc5b4\\uacf5\\ud559\\uc744 \\uae30\\ubc18\\uc73c\\ub85c \\uc18c\\uc15c\\ub124\\ud2b8\\uc6cc\\ud06c \\ubd84\\uc11d, \\uacf5\\uac04\\ubd84\\uc11d, \\ub370\\uc774\\ud130 \\uc2dc\\uac01\\ud654\\uc5d0 \\uad00\\uc2ec.', u'friends_count': 559, u'location': u'Seoul', u'profile_link_color': u'93A644', u'profile_image_url': u'http://pbs.twimg.com/profile_images/772791597087858688/JQxpv08B_normal.jpg', u'following': True, u'geo_enabled': True, u'profile_background_image_url': u'http://abs.twimg.com/images/themes/theme13/bg.gif', u'screen_name': u'DM_SMU', u'lang': u'ko', u'profile_background_tile': False, u'favourites_count': 41, u'name': u'\\uae40\\uc9c4\\ub9cc', u'notifications': True, u'url': None, u'created_at': u'Thu Sep 03 00:35:01 +0000 2009', u'contributors_enabled': False, u'time_zone': u'Seoul', u'protected': False, u'default_profile': False, u'is_translator': False}, u'geo': None, u'in_reply_to_user_id_str': None, u'lang': u'ko', u'created_at': u'Mon Sep 05 23:47:06 +0000 2016', u'in_reply_to_status_id_str': None, u'place': None}, {u'contributors': None, u'truncated': False, u'text': u'\\uc800\\ub3c4 \\uc0ac\\uc9c4 \\uc62c\\ub838\\uc2b5\\ub2c8\\ub2e4 \\u314e\\u314e #ED2016', u'is_quote_status': False, u'in_reply_to_status_id': None, u'id': 772792294739017728L, u'favorite_count': 0, u'source': u'<a href=\"http://twitter.com/download/android\" rel=\"nofollow\">Twitter for Android</a>', u'retweeted': False, u'coordinates': None, u'entities': {u'symbols': [], u'user_mentions': [], u'hashtags': [{u'indices': [15, 22], u'text': u'ED2016'}], u'urls': []}, u'in_reply_to_screen_name': None, u'in_reply_to_user_id': None, u'retweet_count': 0, u'id_str': u'772792294739017728', u'favorited': False, u'user': {u'follow_request_sent': False, u'has_extended_profile': False, u'profile_use_background_image': True, u'default_profile_image': False, u'id': 71124270, u'profile_background_image_url_https': u'https://abs.twimg.com/images/themes/theme13/bg.gif', u'verified': False, u'translator_type': u'none', u'profile_text_color': u'333333', u'profile_image_url_https': u'https://pbs.twimg.com/profile_images/772791597087858688/JQxpv08B_normal.jpg', u'profile_sidebar_fill_color': u'FFFFFF', u'entities': {u'description': {u'urls': []}}, u'followers_count': 565, u'profile_sidebar_border_color': u'EEEEEE', u'id_str': u'71124270', u'profile_background_color': u'B2DFDA', u'listed_count': 7, u'is_translation_enabled': False, u'utc_offset': 32400, u'statuses_count': 1479, u'description': u'\\uc18c\\ud504\\ud2b8\\uc6e8\\uc5b4\\uacf5\\ud559\\uc744 \\uae30\\ubc18\\uc73c\\ub85c \\uc18c\\uc15c\\ub124\\ud2b8\\uc6cc\\ud06c \\ubd84\\uc11d, \\uacf5\\uac04\\ubd84\\uc11d, \\ub370\\uc774\\ud130 \\uc2dc\\uac01\\ud654\\uc5d0 \\uad00\\uc2ec.', u'friends_count': 559, u'location': u'Seoul', u'profile_link_color': u'93A644', u'profile_image_url': u'http://pbs.twimg.com/profile_images/772791597087858688/JQxpv08B_normal.jpg', u'following': True, u'geo_enabled': True, u'profile_background_image_url': u'http://abs.twimg.com/images/themes/theme13/bg.gif', u'screen_name': u'DM_SMU', u'lang': u'ko', u'profile_background_tile': False, u'favourites_count': 41, u'name': u'\\uae40\\uc9c4\\ub9cc', u'notifications': True, u'url': None, u'created_at': u'Thu Sep 03 00:35:01 +0000 2009', u'contributors_enabled': False, u'time_zone': u'Seoul', u'protected': False, u'default_profile': False, u'is_translator': False}, u'geo': None, u'in_reply_to_user_id_str': None, u'lang': u'ko', u'created_at': u'Mon Sep 05 13:43:35 +0000 2016', u'in_reply_to_status_id_str': None, u'place': None}, {u'contributors': None, u'truncated': False, u'text': u'#ED2016 \\uc548\\ub155\\ud558\\uc138\\uc694.', u'is_quote_status': False, u'in_reply_to_status_id': None, u'id': 772715579014651905L, u'favorite_count': 0, u'source': u'<a href=\"http://twitter.com\" rel=\"nofollow\">Twitter Web Client</a>', u'retweeted': False, u'coordinates': None, u'entities': {u'symbols': [], u'user_mentions': [], u'hashtags': [{u'indices': [0, 7], u'text': u'ED2016'}], u'urls': []}, u'in_reply_to_screen_name': None, u'in_reply_to_user_id': None, u'retweet_count': 0, u'id_str': u'772715579014651905', u'favorited': False, u'user': {u'follow_request_sent': False, u'has_extended_profile': False, u'profile_use_background_image': True, u'default_profile_image': False, u'id': 71124270, u'profile_background_image_url_https': u'https://abs.twimg.com/images/themes/theme13/bg.gif', u'verified': False, u'translator_type': u'none', u'profile_text_color': u'333333', u'profile_image_url_https': u'https://pbs.twimg.com/profile_images/772791597087858688/JQxpv08B_normal.jpg', u'profile_sidebar_fill_color': u'FFFFFF', u'entities': {u'description': {u'urls': []}}, u'followers_count': 565, u'profile_sidebar_border_color': u'EEEEEE', u'id_str': u'71124270', u'profile_background_color': u'B2DFDA', u'listed_count': 7, u'is_translation_enabled': False, u'utc_offset': 32400, u'statuses_count': 1479, u'description': u'\\uc18c\\ud504\\ud2b8\\uc6e8\\uc5b4\\uacf5\\ud559\\uc744 \\uae30\\ubc18\\uc73c\\ub85c \\uc18c\\uc15c\\ub124\\ud2b8\\uc6cc\\ud06c \\ubd84\\uc11d, \\uacf5\\uac04\\ubd84\\uc11d, \\ub370\\uc774\\ud130 \\uc2dc\\uac01\\ud654\\uc5d0 \\uad00\\uc2ec.', u'friends_count': 559, u'location': u'Seoul', u'profile_link_color': u'93A644', u'profile_image_url': u'http://pbs.twimg.com/profile_images/772791597087858688/JQxpv08B_normal.jpg', u'following': True, u'geo_enabled': True, u'profile_background_image_url': u'http://abs.twimg.com/images/themes/theme13/bg.gif', u'screen_name': u'DM_SMU', u'lang': u'ko', u'profile_background_tile': False, u'favourites_count': 41, u'name': u'\\uae40\\uc9c4\\ub9cc', u'notifications': True, u'url': None, u'created_at': u'Thu Sep 03 00:35:01 +0000 2009', u'contributors_enabled': False, u'time_zone': u'Seoul', u'protected': False, u'default_profile': False, u'is_translator': False}, u'geo': None, u'in_reply_to_user_id_str': None, u'lang': u'ko', u'created_at': u'Mon Sep 05 08:38:45 +0000 2016', u'in_reply_to_status_id_str': None, u'place': None}, {u'contributors': None, u'truncated': False, u'text': u'#OS2016 [\\uc6b4\\uc601\\uccb4\\uc81c] \\uc2dc\\ud5d8 3:30\\ubd80\\ud130 \\uc2dc\\uc791\\uc774\\uc694. N301 - 10, 11, 12\\ud559\\ubc88 \\uc2dc\\ud5d8\\nN302 - 13, 14\\ud559\\ubc88 \\uc2dc\\ud5d8 \\uc7a5\\uc18c\\uc785\\ub2c8\\ub2e4. \\ud2b8\\uc717\\ub2a6\\uc5b4\\uc11c \\ubbf8\\uc548\\ud569\\ub2c8\\ub2e4. \\ub2e4\\ub4e4 \\uc2dc\\ud5d8 \\ud654\\uc774\\ud305!', u'is_quote_status': False, u'in_reply_to_status_id': None, u'id': 743683998744903680L, u'favorite_count': 0, u'source': u'<a href=\"http://twitter.com\" rel=\"nofollow\">Twitter Web Client</a>', u'retweeted': False, u'coordinates': None, u'entities': {u'symbols': [], u'user_mentions': [], u'hashtags': [{u'indices': [0, 7], u'text': u'OS2016'}], u'urls': []}, u'in_reply_to_screen_name': None, u'in_reply_to_user_id': None, u'retweet_count': 0, u'id_str': u'743683998744903680', u'favorited': False, u'user': {u'follow_request_sent': False, u'has_extended_profile': False, u'profile_use_background_image': True, u'default_profile_image': False, u'id': 71124270, u'profile_background_image_url_https': u'https://abs.twimg.com/images/themes/theme13/bg.gif', u'verified': False, u'translator_type': u'none', u'profile_text_color': u'333333', u'profile_image_url_https': u'https://pbs.twimg.com/profile_images/772791597087858688/JQxpv08B_normal.jpg', u'profile_sidebar_fill_color': u'FFFFFF', u'entities': {u'description': {u'urls': []}}, u'followers_count': 565, u'profile_sidebar_border_color': u'EEEEEE', u'id_str': u'71124270', u'profile_background_color': u'B2DFDA', u'listed_count': 7, u'is_translation_enabled': False, u'utc_offset': 32400, u'statuses_count': 1479, u'description': u'\\uc18c\\ud504\\ud2b8\\uc6e8\\uc5b4\\uacf5\\ud559\\uc744 \\uae30\\ubc18\\uc73c\\ub85c \\uc18c\\uc15c\\ub124\\ud2b8\\uc6cc\\ud06c \\ubd84\\uc11d, \\uacf5\\uac04\\ubd84\\uc11d, \\ub370\\uc774\\ud130 \\uc2dc\\uac01\\ud654\\uc5d0 \\uad00\\uc2ec.', u'friends_count': 559, u'location': u'Seoul', u'profile_link_color': u'93A644', u'profile_image_url': u'http://pbs.twimg.com/profile_images/772791597087858688/JQxpv08B_normal.jpg', u'following': True, u'geo_enabled': True, u'profile_background_image_url': u'http://abs.twimg.com/images/themes/theme13/bg.gif', u'screen_name': u'DM_SMU', u'lang': u'ko', u'profile_background_tile': False, u'favourites_count': 41, u'name': u'\\uae40\\uc9c4\\ub9cc', u'notifications': True, u'url': None, u'created_at': u'Thu Sep 03 00:35:01 +0000 2009', u'contributors_enabled': False, u'time_zone': u'Seoul', u'protected': False, u'default_profile': False, u'is_translator': False}, u'geo': None, u'in_reply_to_user_id_str': None, u'lang': u'ko', u'created_at': u'Fri Jun 17 05:57:36 +0000 2016', u'in_reply_to_status_id_str': None, u'place': None}, {u'contributors': None, u'truncated': False, u'text': u'#OS2016 [\\uc6b4\\uc601\\uccb4\\uc81c] \\uc2dc\\ud5d8 3:30\\ubd80\\ud130 \\uc2dc\\uc791\\uc774\\uc694. N301 - 10, 11, 12\\ud559\\ubc88 \\uc2dc\\ud5d8\\nN302 - 13, 14\\ud559\\ubc88 \\uc2dc\\ud5d8 \\uc7a5\\uc18c\\uc785\\ub2c8\\ub2e4. \\ud2b8\\uc717\\ub2a6\\uc5b4\\uc11c \\ubbf8\\uc548\\ud569\\ub2c8\\ub2e4. \\ub2e4\\ub4e4 \\uc2dc\\ud5d8 \\ud654\\uc774\\ud305', u'is_quote_status': False, u'in_reply_to_status_id': None, u'id': 743683858206359553L, u'favorite_count': 0, u'source': u'<a href=\"http://twitter.com\" rel=\"nofollow\">Twitter Web Client</a>', u'retweeted': False, u'coordinates': None, u'entities': {u'symbols': [], u'user_mentions': [], u'hashtags': [{u'indices': [0, 7], u'text': u'OS2016'}], u'urls': []}, u'in_reply_to_screen_name': None, u'in_reply_to_user_id': None, u'retweet_count': 0, u'id_str': u'743683858206359553', u'favorited': False, u'user': {u'follow_request_sent': False, u'has_extended_profile': False, u'profile_use_background_image': True, u'default_profile_image': False, u'id': 71124270, u'profile_background_image_url_https': u'https://abs.twimg.com/images/themes/theme13/bg.gif', u'verified': False, u'translator_type': u'none', u'profile_text_color': u'333333', u'profile_image_url_https': u'https://pbs.twimg.com/profile_images/772791597087858688/JQxpv08B_normal.jpg', u'profile_sidebar_fill_color': u'FFFFFF', u'entities': {u'description': {u'urls': []}}, u'followers_count': 565, u'profile_sidebar_border_color': u'EEEEEE', u'id_str': u'71124270', u'profile_background_color': u'B2DFDA', u'listed_count': 7, u'is_translation_enabled': False, u'utc_offset': 32400, u'statuses_count': 1479, u'description': u'\\uc18c\\ud504\\ud2b8\\uc6e8\\uc5b4\\uacf5\\ud559\\uc744 \\uae30\\ubc18\\uc73c\\ub85c \\uc18c\\uc15c\\ub124\\ud2b8\\uc6cc\\ud06c \\ubd84\\uc11d, \\uacf5\\uac04\\ubd84\\uc11d, \\ub370\\uc774\\ud130 \\uc2dc\\uac01\\ud654\\uc5d0 \\uad00\\uc2ec.', u'friends_count': 559, u'location': u'Seoul', u'profile_link_color': u'93A644', u'profile_image_url': u'http://pbs.twimg.com/profile_images/772791597087858688/JQxpv08B_normal.jpg', u'following': True, u'geo_enabled': True, u'profile_background_image_url': u'http://abs.twimg.com/images/themes/theme13/bg.gif', u'screen_name': u'DM_SMU', u'lang': u'ko', u'profile_background_tile': False, u'favourites_count': 41, u'name': u'\\uae40\\uc9c4\\ub9cc', u'notifications': True, u'url': None, u'created_at': u'Thu Sep 03 00:35:01 +0000 2009', u'contributors_enabled': False, u'time_zone': u'Seoul', u'protected': False, u'default_profile': False, u'is_translator': False}, u'geo': None, u'in_reply_to_user_id_str': None, u'lang': u'ko', u'created_at': u'Fri Jun 17 05:57:03 +0000 2016', u'in_reply_to_status_id_str': None, u'place': None}, {u'contributors': None, u'truncated': False, u'text': u'#OS2016 [\\uc6b4\\uc601\\uccb4\\uc81c] 6\\uc7a5\\uc5f0\\uc2b5\\ubb38\\uc81c 23\\ubc88(p.286) \\uc791\\uc5c51\\uc758 &lt;CPU \\uc0ac\\uc6a9 \\uc2dc\\uac04&gt;\\uc774 3\\uc774 \\uc544\\ub2c8\\ub77c 23\\uc785\\ub2c8\\ub2e4. \\uc800\\uc790\\uc5d0\\uac8c \\uc624\\ud0c8\\uc790 \\ud655\\uc778\\uc694\\uccad\\ud588\\uc2b5\\ub2c8\\ub2e4.', u'is_quote_status': False, u'in_reply_to_status_id': None, u'id': 741894780586582016L, u'favorite_count': 3, u'source': u'<a href=\"http://twitter.com\" rel=\"nofollow\">Twitter Web Client</a>', u'retweeted': False, u'coordinates': None, u'entities': {u'symbols': [], u'user_mentions': [], u'hashtags': [{u'indices': [0, 7], u'text': u'OS2016'}], u'urls': []}, u'in_reply_to_screen_name': None, u'in_reply_to_user_id': None, u'retweet_count': 0, u'id_str': u'741894780586582016', u'favorited': False, u'user': {u'follow_request_sent': False, u'has_extended_profile': False, u'profile_use_background_image': True, u'default_profile_image': False, u'id': 71124270, u'profile_background_image_url_https': u'https://abs.twimg.com/images/themes/theme13/bg.gif', u'verified': False, u'translator_type': u'none', u'profile_text_color': u'333333', u'profile_image_url_https': u'https://pbs.twimg.com/profile_images/772791597087858688/JQxpv08B_normal.jpg', u'profile_sidebar_fill_color': u'FFFFFF', u'entities': {u'description': {u'urls': []}}, u'followers_count': 565, u'profile_sidebar_border_color': u'EEEEEE', u'id_str': u'71124270', u'profile_background_color': u'B2DFDA', u'listed_count': 7, u'is_translation_enabled': False, u'utc_offset': 32400, u'statuses_count': 1479, u'description': u'\\uc18c\\ud504\\ud2b8\\uc6e8\\uc5b4\\uacf5\\ud559\\uc744 \\uae30\\ubc18\\uc73c\\ub85c \\uc18c\\uc15c\\ub124\\ud2b8\\uc6cc\\ud06c \\ubd84\\uc11d, \\uacf5\\uac04\\ubd84\\uc11d, \\ub370\\uc774\\ud130 \\uc2dc\\uac01\\ud654\\uc5d0 \\uad00\\uc2ec.', u'friends_count': 559, u'location': u'Seoul', u'profile_link_color': u'93A644', u'profile_image_url': u'http://pbs.twimg.com/profile_images/772791597087858688/JQxpv08B_normal.jpg', u'following': True, u'geo_enabled': True, u'profile_background_image_url': u'http://abs.twimg.com/images/themes/theme13/bg.gif', u'screen_name': u'DM_SMU', u'lang': u'ko', u'profile_background_tile': False, u'favourites_count': 41, u'name': u'\\uae40\\uc9c4\\ub9cc', u'notifications': True, u'url': None, u'created_at': u'Thu Sep 03 00:35:01 +0000 2009', u'contributors_enabled': False, u'time_zone': u'Seoul', u'protected': False, u'default_profile': False, u'is_translator': False}, u'geo': None, u'in_reply_to_user_id_str': None, u'lang': u'ko', u'created_at': u'Sun Jun 12 07:27:54 +0000 2016', u'in_reply_to_status_id_str': None, u'place': None}, {u'contributors': None, u'truncated': False, u'text': u'#OS2016 3:30 \\uc218\\uc5c5.', u'is_quote_status': False, u'in_reply_to_status_id': None, u'id': 741131349545897984L, u'favorite_count': 0, u'source': u'<a href=\"http://twitter.com\" rel=\"nofollow\">Twitter Web Client</a>', u'retweeted': False, u'coordinates': None, u'entities': {u'symbols': [], u'user_mentions': [], u'hashtags': [{u'indices': [0, 7], u'text': u'OS2016'}], u'urls': []}, u'in_reply_to_screen_name': None, u'in_reply_to_user_id': None, u'retweet_count': 0, u'id_str': u'741131349545897984', u'favorited': False, u'user': {u'follow_request_sent': False, u'has_extended_profile': False, u'profile_use_background_image': True, u'default_profile_image': False, u'id': 71124270, u'profile_background_image_url_https': u'https://abs.twimg.com/images/themes/theme13/bg.gif', u'verified': False, u'translator_type': u'none', u'profile_text_color': u'333333', u'profile_image_url_https': u'https://pbs.twimg.com/profile_images/772791597087858688/JQxpv08B_normal.jpg', u'profile_sidebar_fill_color': u'FFFFFF', u'entities': {u'description': {u'urls': []}}, u'followers_count': 565, u'profile_sidebar_border_color': u'EEEEEE', u'id_str': u'71124270', u'profile_background_color': u'B2DFDA', u'listed_count': 7, u'is_translation_enabled': False, u'utc_offset': 32400, u'statuses_count': 1479, u'description': u'\\uc18c\\ud504\\ud2b8\\uc6e8\\uc5b4\\uacf5\\ud559\\uc744 \\uae30\\ubc18\\uc73c\\ub85c \\uc18c\\uc15c\\ub124\\ud2b8\\uc6cc\\ud06c \\ubd84\\uc11d, \\uacf5\\uac04\\ubd84\\uc11d, \\ub370\\uc774\\ud130 \\uc2dc\\uac01\\ud654\\uc5d0 \\uad00\\uc2ec.', u'friends_count': 559, u'location': u'Seoul', u'profile_link_color': u'93A644', u'profile_image_url': u'http://pbs.twimg.com/profile_images/772791597087858688/JQxpv08B_normal.jpg', u'following': True, u'geo_enabled': True, u'profile_background_image_url': u'http://abs.twimg.com/images/themes/theme13/bg.gif', u'screen_name': u'DM_SMU', u'lang': u'ko', u'profile_background_tile': False, u'favourites_count': 41, u'name': u'\\uae40\\uc9c4\\ub9cc', u'notifications': True, u'url': None, u'created_at': u'Thu Sep 03 00:35:01 +0000 2009', u'contributors_enabled': False, u'time_zone': u'Seoul', u'protected': False, u'default_profile': False, u'is_translator': False}, u'geo': None, u'in_reply_to_user_id_str': None, u'lang': u'ko', u'created_at': u'Fri Jun 10 04:54:17 +0000 2016', u'in_reply_to_status_id_str': None, u'place': None}, {u'contributors': None, u'truncated': False, u'text': u'#OS2016 [\\uc6b4\\uc601\\uccb4\\uc81c \\uacf5\\uc9c0] \\uae08\\uc77c \\ud734\\uac15\\uc774\\uc694 \\u315c\\u3161 \\ub2e4\\uc74c\\uc8fc\\uc5d0 \\ubd10\\uc694.', u'is_quote_status': False, u'in_reply_to_status_id': None, u'id': 738536846464950276L, u'favorite_count': 2, u'source': u'<a href=\"http://twitter.com\" rel=\"nofollow\">Twitter Web Client</a>', u'retweeted': False, u'coordinates': None, u'entities': {u'symbols': [], u'user_mentions': [], u'hashtags': [{u'indices': [0, 7], u'text': u'OS2016'}], u'urls': []}, u'in_reply_to_screen_name': None, u'in_reply_to_user_id': None, u'retweet_count': 0, u'id_str': u'738536846464950276', u'favorited': False, u'user': {u'follow_request_sent': False, u'has_extended_profile': False, u'profile_use_background_image': True, u'default_profile_image': False, u'id': 71124270, u'profile_background_image_url_https': u'https://abs.twimg.com/images/themes/theme13/bg.gif', u'verified': False, u'translator_type': u'none', u'profile_text_color': u'333333', u'profile_image_url_https': u'https://pbs.twimg.com/profile_images/772791597087858688/JQxpv08B_normal.jpg', u'profile_sidebar_fill_color': u'FFFFFF', u'entities': {u'description': {u'urls': []}}, u'followers_count': 565, u'profile_sidebar_border_color': u'EEEEEE', u'id_str': u'71124270', u'profile_background_color': u'B2DFDA', u'listed_count': 7, u'is_translation_enabled': False, u'utc_offset': 32400, u'statuses_count': 1479, u'description': u'\\uc18c\\ud504\\ud2b8\\uc6e8\\uc5b4\\uacf5\\ud559\\uc744 \\uae30\\ubc18\\uc73c\\ub85c \\uc18c\\uc15c\\ub124\\ud2b8\\uc6cc\\ud06c \\ubd84\\uc11d, \\uacf5\\uac04\\ubd84\\uc11d, \\ub370\\uc774\\ud130 \\uc2dc\\uac01\\ud654\\uc5d0 \\uad00\\uc2ec.', u'friends_count': 559, u'location': u'Seoul', u'profile_link_color': u'93A644', u'profile_image_url': u'http://pbs.twimg.com/profile_images/772791597087858688/JQxpv08B_normal.jpg', u'following': True, u'geo_enabled': True, u'profile_background_image_url': u'http://abs.twimg.com/images/themes/theme13/bg.gif', u'screen_name': u'DM_SMU', u'lang': u'ko', u'profile_background_tile': False, u'favourites_count': 41, u'name': u'\\uae40\\uc9c4\\ub9cc', u'notifications': True, u'url': None, u'created_at': u'Thu Sep 03 00:35:01 +0000 2009', u'contributors_enabled': False, u'time_zone': u'Seoul', u'protected': False, u'default_profile': False, u'is_translator': False}, u'geo': None, u'in_reply_to_user_id_str': None, u'lang': u'ko', u'created_at': u'Fri Jun 03 01:04:40 +0000 2016', u'in_reply_to_status_id_str': None, u'place': None}, {u'contributors': None, u'truncated': False, u'text': u'#OS2016 [\\uc6b4\\uc601\\uccb4\\uc81c] 3:30\\ubd84\\uc774\\uc694. \\ub9db\\uc810\\ub4e4\\ud558\\uc138\\uc694~', u'is_quote_status': False, u'in_reply_to_status_id': None, u'id': 736031832416755713L, u'favorite_count': 0, u'source': u'<a href=\"http://twitter.com\" rel=\"nofollow\">Twitter Web Client</a>', u'retweeted': False, u'coordinates': None, u'entities': {u'symbols': [], u'user_mentions': [], u'hashtags': [{u'indices': [0, 7], u'text': u'OS2016'}], u'urls': []}, u'in_reply_to_screen_name': None, u'in_reply_to_user_id': None, u'retweet_count': 0, u'id_str': u'736031832416755713', u'favorited': False, u'user': {u'follow_request_sent': False, u'has_extended_profile': False, u'profile_use_background_image': True, u'default_profile_image': False, u'id': 71124270, u'profile_background_image_url_https': u'https://abs.twimg.com/images/themes/theme13/bg.gif', u'verified': False, u'translator_type': u'none', u'profile_text_color': u'333333', u'profile_image_url_https': u'https://pbs.twimg.com/profile_images/772791597087858688/JQxpv08B_normal.jpg', u'profile_sidebar_fill_color': u'FFFFFF', u'entities': {u'description': {u'urls': []}}, u'followers_count': 565, u'profile_sidebar_border_color': u'EEEEEE', u'id_str': u'71124270', u'profile_background_color': u'B2DFDA', u'listed_count': 7, u'is_translation_enabled': False, u'utc_offset': 32400, u'statuses_count': 1479, u'description': u'\\uc18c\\ud504\\ud2b8\\uc6e8\\uc5b4\\uacf5\\ud559\\uc744 \\uae30\\ubc18\\uc73c\\ub85c \\uc18c\\uc15c\\ub124\\ud2b8\\uc6cc\\ud06c \\ubd84\\uc11d, \\uacf5\\uac04\\ubd84\\uc11d, \\ub370\\uc774\\ud130 \\uc2dc\\uac01\\ud654\\uc5d0 \\uad00\\uc2ec.', u'friends_count': 559, u'location': u'Seoul', u'profile_link_color': u'93A644', u'profile_image_url': u'http://pbs.twimg.com/profile_images/772791597087858688/JQxpv08B_normal.jpg', u'following': True, u'geo_enabled': True, u'profile_background_image_url': u'http://abs.twimg.com/images/themes/theme13/bg.gif', u'screen_name': u'DM_SMU', u'lang': u'ko', u'profile_background_tile': False, u'favourites_count': 41, u'name': u'\\uae40\\uc9c4\\ub9cc', u'notifications': True, u'url': None, u'created_at': u'Thu Sep 03 00:35:01 +0000 2009', u'contributors_enabled': False, u'time_zone': u'Seoul', u'protected': False, u'default_profile': False, u'is_translator': False}, u'geo': None, u'in_reply_to_user_id_str': None, u'lang': u'ko', u'created_at': u'Fri May 27 03:10:38 +0000 2016', u'in_reply_to_status_id_str': None, u'place': None}, {u'contributors': None, u'truncated': False, u'text': u'#OS2016 [\\uc6b4\\uc601\\uccb4\\uc81c] \\uc624\\ub4e4\\ub3c4 \\uc5ed\\uc2dc\\ub098 3:30 \\uc2dc\\uc791 \\u3161,.\\u3161', u'is_quote_status': False, u'in_reply_to_status_id': None, u'id': 733519490378403841L, u'favorite_count': 1, u'source': u'<a href=\"http://twitter.com\" rel=\"nofollow\">Twitter Web Client</a>', u'retweeted': False, u'coordinates': None, u'entities': {u'symbols': [], u'user_mentions': [], u'hashtags': [{u'indices': [0, 7], u'text': u'OS2016'}], u'urls': []}, u'in_reply_to_screen_name': None, u'in_reply_to_user_id': None, u'retweet_count': 0, u'id_str': u'733519490378403841', u'favorited': False, u'user': {u'follow_request_sent': False, u'has_extended_profile': False, u'profile_use_background_image': True, u'default_profile_image': False, u'id': 71124270, u'profile_background_image_url_https': u'https://abs.twimg.com/images/themes/theme13/bg.gif', u'verified': False, u'translator_type': u'none', u'profile_text_color': u'333333', u'profile_image_url_https': u'https://pbs.twimg.com/profile_images/772791597087858688/JQxpv08B_normal.jpg', u'profile_sidebar_fill_color': u'FFFFFF', u'entities': {u'description': {u'urls': []}}, u'followers_count': 565, u'profile_sidebar_border_color': u'EEEEEE', u'id_str': u'71124270', u'profile_background_color': u'B2DFDA', u'listed_count': 7, u'is_translation_enabled': False, u'utc_offset': 32400, u'statuses_count': 1479, u'description': u'\\uc18c\\ud504\\ud2b8\\uc6e8\\uc5b4\\uacf5\\ud559\\uc744 \\uae30\\ubc18\\uc73c\\ub85c \\uc18c\\uc15c\\ub124\\ud2b8\\uc6cc\\ud06c \\ubd84\\uc11d, \\uacf5\\uac04\\ubd84\\uc11d, \\ub370\\uc774\\ud130 \\uc2dc\\uac01\\ud654\\uc5d0 \\uad00\\uc2ec.', u'friends_count': 559, u'location': u'Seoul', u'profile_link_color': u'93A644', u'profile_image_url': u'http://pbs.twimg.com/profile_images/772791597087858688/JQxpv08B_normal.jpg', u'following': True, u'geo_enabled': True, u'profile_background_image_url': u'http://abs.twimg.com/images/themes/theme13/bg.gif', u'screen_name': u'DM_SMU', u'lang': u'ko', u'profile_background_tile': False, u'favourites_count': 41, u'name': u'\\uae40\\uc9c4\\ub9cc', u'notifications': True, u'url': None, u'created_at': u'Thu Sep 03 00:35:01 +0000 2009', u'contributors_enabled': False, u'time_zone': u'Seoul', u'protected': False, u'default_profile': False, u'is_translator': False}, u'geo': None, u'in_reply_to_user_id_str': None, u'lang': u'ko', u'created_at': u'Fri May 20 04:47:29 +0000 2016', u'in_reply_to_status_id_str': None, u'place': None}, {u'contributors': None, u'truncated': False, u'text': u'#OS2016 [\\uc6b4\\uc601\\uccb4\\uc81c] 15:30 \\uc2dc\\uc791\\uc774\\uc694~', u'is_quote_status': False, u'in_reply_to_status_id': None, u'id': 730977288716615682L, u'favorite_count': 0, u'source': u'<a href=\"http://www.twitter.com\" rel=\"nofollow\">Twitter for BlackBerry</a>', u'retweeted': False, u'coordinates': None, u'entities': {u'symbols': [], u'user_mentions': [], u'hashtags': [{u'indices': [0, 7], u'text': u'OS2016'}], u'urls': []}, u'in_reply_to_screen_name': None, u'in_reply_to_user_id': None, u'retweet_count': 0, u'id_str': u'730977288716615682', u'favorited': False, u'user': {u'follow_request_sent': False, u'has_extended_profile': False, u'profile_use_background_image': True, u'default_profile_image': False, u'id': 71124270, u'profile_background_image_url_https': u'https://abs.twimg.com/images/themes/theme13/bg.gif', u'verified': False, u'translator_type': u'none', u'profile_text_color': u'333333', u'profile_image_url_https': u'https://pbs.twimg.com/profile_images/772791597087858688/JQxpv08B_normal.jpg', u'profile_sidebar_fill_color': u'FFFFFF', u'entities': {u'description': {u'urls': []}}, u'followers_count': 565, u'profile_sidebar_border_color': u'EEEEEE', u'id_str': u'71124270', u'profile_background_color': u'B2DFDA', u'listed_count': 7, u'is_translation_enabled': False, u'utc_offset': 32400, u'statuses_count': 1479, u'description': u'\\uc18c\\ud504\\ud2b8\\uc6e8\\uc5b4\\uacf5\\ud559\\uc744 \\uae30\\ubc18\\uc73c\\ub85c \\uc18c\\uc15c\\ub124\\ud2b8\\uc6cc\\ud06c \\ubd84\\uc11d, \\uacf5\\uac04\\ubd84\\uc11d, \\ub370\\uc774\\ud130 \\uc2dc\\uac01\\ud654\\uc5d0 \\uad00\\uc2ec.', u'friends_count': 559, u'location': u'Seoul', u'profile_link_color': u'93A644', u'profile_image_url': u'http://pbs.twimg.com/profile_images/772791597087858688/JQxpv08B_normal.jpg', u'following': True, u'geo_enabled': True, u'profile_background_image_url': u'http://abs.twimg.com/images/themes/theme13/bg.gif', u'screen_name': u'DM_SMU', u'lang': u'ko', u'profile_background_tile': False, u'favourites_count': 41, u'name': u'\\uae40\\uc9c4\\ub9cc', u'notifications': True, u'url': None, u'created_at': u'Thu Sep 03 00:35:01 +0000 2009', u'contributors_enabled': False, u'time_zone': u'Seoul', u'protected': False, u'default_profile': False, u'is_translator': False}, u'geo': None, u'in_reply_to_user_id_str': None, u'lang': u'ko', u'created_at': u'Fri May 13 04:25:41 +0000 2016', u'in_reply_to_status_id_str': None, u'place': None}, {u'contributors': None, u'truncated': False, u'text': u'#OS2016 [\\uc6b4\\uc601\\uccb4\\uc81c \\uacf5\\uc9c0] 3:30\\ubd84\\uc5d0 \\uc218\\uc5c5 \\uc2dc\\uc791\\ud560\\uaed8\\uc694~', u'is_quote_status': False, u'in_reply_to_status_id': None, u'id': 725914847062282240L, u'favorite_count': 1, u'source': u'<a href=\"http://twitter.com\" rel=\"nofollow\">Twitter Web Client</a>', u'retweeted': False, u'coordinates': None, u'entities': {u'symbols': [], u'user_mentions': [], u'hashtags': [{u'indices': [0, 7], u'text': u'OS2016'}], u'urls': []}, u'in_reply_to_screen_name': None, u'in_reply_to_user_id': None, u'retweet_count': 0, u'id_str': u'725914847062282240', u'favorited': False, u'user': {u'follow_request_sent': False, u'has_extended_profile': False, u'profile_use_background_image': True, u'default_profile_image': False, u'id': 71124270, u'profile_background_image_url_https': u'https://abs.twimg.com/images/themes/theme13/bg.gif', u'verified': False, u'translator_type': u'none', u'profile_text_color': u'333333', u'profile_image_url_https': u'https://pbs.twimg.com/profile_images/772791597087858688/JQxpv08B_normal.jpg', u'profile_sidebar_fill_color': u'FFFFFF', u'entities': {u'description': {u'urls': []}}, u'followers_count': 565, u'profile_sidebar_border_color': u'EEEEEE', u'id_str': u'71124270', u'profile_background_color': u'B2DFDA', u'listed_count': 7, u'is_translation_enabled': False, u'utc_offset': 32400, u'statuses_count': 1479, u'description': u'\\uc18c\\ud504\\ud2b8\\uc6e8\\uc5b4\\uacf5\\ud559\\uc744 \\uae30\\ubc18\\uc73c\\ub85c \\uc18c\\uc15c\\ub124\\ud2b8\\uc6cc\\ud06c \\ubd84\\uc11d, \\uacf5\\uac04\\ubd84\\uc11d, \\ub370\\uc774\\ud130 \\uc2dc\\uac01\\ud654\\uc5d0 \\uad00\\uc2ec.', u'friends_count': 559, u'location': u'Seoul', u'profile_link_color': u'93A644', u'profile_image_url': u'http://pbs.twimg.com/profile_images/772791597087858688/JQxpv08B_normal.jpg', u'following': True, u'geo_enabled': True, u'profile_background_image_url': u'http://abs.twimg.com/images/themes/theme13/bg.gif', u'screen_name': u'DM_SMU', u'lang': u'ko', u'profile_background_tile': False, u'favourites_count': 41, u'name': u'\\uae40\\uc9c4\\ub9cc', u'notifications': True, u'url': None, u'created_at': u'Thu Sep 03 00:35:01 +0000 2009', u'contributors_enabled': False, u'time_zone': u'Seoul', u'protected': False, u'default_profile': False, u'is_translator': False}, u'geo': None, u'in_reply_to_user_id_str': None, u'lang': u'ko', u'created_at': u'Fri Apr 29 05:09:21 +0000 2016', u'in_reply_to_status_id_str': None, u'place': None}, {u'contributors': None, u'truncated': False, u'text': u'#OS2016 [\\uc6b4\\uc601\\uccb4\\uc81c-\\uc911\\uac04\\uace0\\uc0ac] N311, N312 \\ub450 \\uac15\\uc758\\uc2e4\\uc5d0\\uc11c \\uc2dc\\ud5d8\\uc744 \\uce58\\ub8f9\\ub2c8\\ub2e4. N311\\uc740 10,11,12\\ud559\\ubc88\\ub4e4 \\uc785\\uc2e4\\ud558\\uc2dc\\uace0\\uc694. N312\\ub294 13, 14\\ud559\\ubc88 \\uc785\\uc2e4\\ud558\\uba74 \\ub429\\ub2c8\\ub2e4. \\uc2dc\\ud5d8 \\uc2dc\\uc791\\uc740 15:30\\ubd84\\uc785\\ub2c8\\ub2e4. \\uc81c\\uac00 \\ucc38\\uc11d\\ud560\\uc218 \\uc5c6\\uc5b4 \\uc870\\uad50\\ub2d8\\ub4e4 \\ubcf4\\ub0c5\\ub2c8\\ub2e4.', u'is_quote_status': False, u'in_reply_to_status_id': None, u'id': 723374243463892993L, u'favorite_count': 2, u'source': u'<a href=\"http://twitter.com\" rel=\"nofollow\">Twitter Web Client</a>', u'retweeted': False, u'coordinates': None, u'entities': {u'symbols': [], u'user_mentions': [], u'hashtags': [{u'indices': [0, 7], u'text': u'OS2016'}], u'urls': []}, u'in_reply_to_screen_name': None, u'in_reply_to_user_id': None, u'retweet_count': 0, u'id_str': u'723374243463892993', u'favorited': False, u'user': {u'follow_request_sent': False, u'has_extended_profile': False, u'profile_use_background_image': True, u'default_profile_image': False, u'id': 71124270, u'profile_background_image_url_https': u'https://abs.twimg.com/images/themes/theme13/bg.gif', u'verified': False, u'translator_type': u'none', u'profile_text_color': u'333333', u'profile_image_url_https': u'https://pbs.twimg.com/profile_images/772791597087858688/JQxpv08B_normal.jpg', u'profile_sidebar_fill_color': u'FFFFFF', u'entities': {u'description': {u'urls': []}}, u'followers_count': 565, u'profile_sidebar_border_color': u'EEEEEE', u'id_str': u'71124270', u'profile_background_color': u'B2DFDA', u'listed_count': 7, u'is_translation_enabled': False, u'utc_offset': 32400, u'statuses_count': 1479, u'description': u'\\uc18c\\ud504\\ud2b8\\uc6e8\\uc5b4\\uacf5\\ud559\\uc744 \\uae30\\ubc18\\uc73c\\ub85c \\uc18c\\uc15c\\ub124\\ud2b8\\uc6cc\\ud06c \\ubd84\\uc11d, \\uacf5\\uac04\\ubd84\\uc11d, \\ub370\\uc774\\ud130 \\uc2dc\\uac01\\ud654\\uc5d0 \\uad00\\uc2ec.', u'friends_count': 559, u'location': u'Seoul', u'profile_link_color': u'93A644', u'profile_image_url': u'http://pbs.twimg.com/profile_images/772791597087858688/JQxpv08B_normal.jpg', u'following': True, u'geo_enabled': True, u'profile_background_image_url': u'http://abs.twimg.com/images/themes/theme13/bg.gif', u'screen_name': u'DM_SMU', u'lang': u'ko', u'profile_background_tile': False, u'favourites_count': 41, u'name': u'\\uae40\\uc9c4\\ub9cc', u'notifications': True, u'url': None, u'created_at': u'Thu Sep 03 00:35:01 +0000 2009', u'contributors_enabled': False, u'time_zone': u'Seoul', u'protected': False, u'default_profile': False, u'is_translator': False}, u'geo': None, u'in_reply_to_user_id_str': None, u'lang': u'ko', u'created_at': u'Fri Apr 22 04:53:53 +0000 2016', u'in_reply_to_status_id_str': None, u'place': None}, {u'contributors': None, u'truncated': False, u'text': u'#OS2016 [\\uc6b4\\uc601\\uccb4\\uc81c \\uc911\\uac04\\uace0\\uc0ac] \\ubc94\\uc704\\ub294 4\\uc7a5 \\uc138\\ub9c8\\ud3ec\\uc5b4 \\uc804\\uae4c\\uc9c0. \\ubb38\\uc81c\\ub294 OX\\ud615, \\ub2e8\\ub2f5\\ud615, \\uc8fc\\uad00\\ud615\\uc774\\uace0 20~25\\ubb38\\uc815\\ub3c4 \\uc81c\\ucd9c\\ud560 \\uc608\\uc815. \\uc5f0\\uc2b5\\ubb38\\uc81c \\ub9ce\\uc774 \\ud480\\uace0 \\uc624\\uc138\\uc694. \\uc5f0\\uc2b5\\ubb38\\uc81c \\ucea1\\ucc98 \\uc774\\ubbf8\\uc9c0 \\uad6c\\uae00\\ub4dc\\ub77c\\uc774\\ube0c OT\\ubb38\\uc11c\\uc5d0 \\uc62c\\ub838\\uc2b5\\ub2c8\\ub2e4.', u'is_quote_status': False, u'in_reply_to_status_id': None, u'id': 721743437712596992L, u'favorite_count': 7, u'source': u'<a href=\"http://twitter.com\" rel=\"nofollow\">Twitter Web Client</a>', u'retweeted': False, u'coordinates': None, u'entities': {u'symbols': [], u'user_mentions': [], u'hashtags': [{u'indices': [0, 7], u'text': u'OS2016'}], u'urls': []}, u'in_reply_to_screen_name': None, u'in_reply_to_user_id': None, u'retweet_count': 0, u'id_str': u'721743437712596992', u'favorited': False, u'user': {u'follow_request_sent': False, u'has_extended_profile': False, u'profile_use_background_image': True, u'default_profile_image': False, u'id': 71124270, u'profile_background_image_url_https': u'https://abs.twimg.com/images/themes/theme13/bg.gif', u'verified': False, u'translator_type': u'none', u'profile_text_color': u'333333', u'profile_image_url_https': u'https://pbs.twimg.com/profile_images/772791597087858688/JQxpv08B_normal.jpg', u'profile_sidebar_fill_color': u'FFFFFF', u'entities': {u'description': {u'urls': []}}, u'followers_count': 565, u'profile_sidebar_border_color': u'EEEEEE', u'id_str': u'71124270', u'profile_background_color': u'B2DFDA', u'listed_count': 7, u'is_translation_enabled': False, u'utc_offset': 32400, u'statuses_count': 1479, u'description': u'\\uc18c\\ud504\\ud2b8\\uc6e8\\uc5b4\\uacf5\\ud559\\uc744 \\uae30\\ubc18\\uc73c\\ub85c \\uc18c\\uc15c\\ub124\\ud2b8\\uc6cc\\ud06c \\ubd84\\uc11d, \\uacf5\\uac04\\ubd84\\uc11d, \\ub370\\uc774\\ud130 \\uc2dc\\uac01\\ud654\\uc5d0 \\uad00\\uc2ec.', u'friends_count': 559, u'location': u'Seoul', u'profile_link_color': u'93A644', u'profile_image_url': u'http://pbs.twimg.com/profile_images/772791597087858688/JQxpv08B_normal.jpg', u'following': True, u'geo_enabled': True, u'profile_background_image_url': u'http://abs.twimg.com/images/themes/theme13/bg.gif', u'screen_name': u'DM_SMU', u'lang': u'ko', u'profile_background_tile': False, u'favourites_count': 41, u'name': u'\\uae40\\uc9c4\\ub9cc', u'notifications': True, u'url': None, u'created_at': u'Thu Sep 03 00:35:01 +0000 2009', u'contributors_enabled': False, u'time_zone': u'Seoul', u'protected': False, u'default_profile': False, u'is_translator': False}, u'geo': None, u'in_reply_to_user_id_str': None, u'lang': u'ko', u'created_at': u'Sun Apr 17 16:53:39 +0000 2016', u'in_reply_to_status_id_str': None, u'place': None}]\n"
     ]
    }
   ],
   "source": [
    "print home_timeline"
   ]
  },
  {
   "cell_type": "code",
   "execution_count": 34,
   "metadata": {
    "collapsed": false
   },
   "outputs": [
    {
     "name": "stdout",
     "output_type": "stream",
     "text": [
      "796256264808316928 Hello 161109 16:40\n",
      "796245957469872128 Hello !!\n",
      "789379179657560064 #ED2016 [중간고사] 시험장소 G207 확정입니다. 시험시간은 5시예요.\n",
      "787818155796156416 #ED2016 [공학설계공지] 오늘은 지금까지 배운거 리뷰하는 시간을 갖습니다. 1시간 정도만하고 빠이할 생각입니다. 출석체크는 하지 않아요. 수업들어와서 다른 시험공부해도 무방합니다. 이상 끝. 좀이따들 봅시다~\n",
      "778456684289069056 #ED2016 구글에서 구글드라이브 한글 문제 해결하기 전까지 https://t.co/DFuBLuK4Fx 요 브라우저를 사용해보세요. 국내산입니다. ㅎ 구글문서 한글 문제 없는거 확인했어요~\n",
      "778409194760179713 #ED2016 구글문서 한글 입력 문제있다는 친구들 기사보세요. 구글독스, 한글 입력 오류…스페이스 바 누르면 삭제 https://t.co/0uKKeifcmI\n",
      "772944176027578368 #ED2016 sangjun9709@gmail.net, melissa.silly@gmail.com, hansomo81@gmail.com 이 계정 문제가 좀 있나봅니다. 해당계정이 본인인 친구들은 구글공유 잘 되었는지 확인바래요.\n",
      "772792294739017728 저도 사진 올렸습니다 ㅎㅎ #ED2016\n",
      "772715579014651905 #ED2016 안녕하세요.\n",
      "743683998744903680 #OS2016 [운영체제] 시험 3:30부터 시작이요. N301 - 10, 11, 12학번 시험\n",
      "N302 - 13, 14학번 시험 장소입니다. 트윗늦어서 미안합니다. 다들 시험 화이팅!\n",
      "743683858206359553 #OS2016 [운영체제] 시험 3:30부터 시작이요. N301 - 10, 11, 12학번 시험\n",
      "N302 - 13, 14학번 시험 장소입니다. 트윗늦어서 미안합니다. 다들 시험 화이팅\n",
      "741894780586582016 #OS2016 [운영체제] 6장연습문제 23번(p.286) 작업1의 &lt;CPU 사용 시간&gt;이 3이 아니라 23입니다. 저자에게 오탈자 확인요청했습니다.\n",
      "741131349545897984 #OS2016 3:30 수업.\n",
      "738536846464950276 #OS2016 [운영체제 공지] 금일 휴강이요 ㅜㅡ 다음주에 봐요.\n",
      "736031832416755713 #OS2016 [운영체제] 3:30분이요. 맛점들하세요~\n",
      "733519490378403841 #OS2016 [운영체제] 오들도 역시나 3:30 시작 ㅡ,.ㅡ\n",
      "730977288716615682 #OS2016 [운영체제] 15:30 시작이요~\n",
      "725914847062282240 #OS2016 [운영체제 공지] 3:30분에 수업 시작할께요~\n",
      "723374243463892993 #OS2016 [운영체제-중간고사] N311, N312 두 강의실에서 시험을 치룹니다. N311은 10,11,12학번들 입실하시고요. N312는 13, 14학번 입실하면 됩니다. 시험 시작은 15:30분입니다. 제가 참석할수 없어 조교님들 보냅니다.\n",
      "721743437712596992 #OS2016 [운영체제 중간고사] 범위는 4장 세마포어 전까지. 문제는 OX형, 단답형, 주관형이고 20~25문정도 제출할 예정. 연습문제 많이 풀고 오세요. 연습문제 캡처 이미지 구글드라이브 OT문서에 올렸습니다.\n"
     ]
    }
   ],
   "source": [
    "for tweet in home_timeline:\n",
    "    print tweet['id'],tweet['text']\n",
    "    _col.insert_one(tweet)"
   ]
  }
 ],
 "metadata": {
  "anaconda-cloud": {},
  "kernelspec": {
   "display_name": "Python [Root]",
   "language": "python",
   "name": "Python [Root]"
  },
  "language_info": {
   "codemirror_mode": {
    "name": "ipython",
    "version": 2
   },
   "file_extension": ".py",
   "mimetype": "text/x-python",
   "name": "python",
   "nbconvert_exporter": "python",
   "pygments_lexer": "ipython2",
   "version": "2.7.12"
  }
 },
 "nbformat": 4,
 "nbformat_minor": 0
}
