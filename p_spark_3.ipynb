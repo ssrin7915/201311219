{
 "cells": [
  {
   "cell_type": "code",
   "execution_count": 2,
   "metadata": {
    "collapsed": false
   },
   "outputs": [
    {
     "name": "stdout",
     "output_type": "stream",
     "text": [
      "Writing ds_spark_wiki.txt\n"
     ]
    }
   ],
   "source": [
    "%%writefile ds_spark_wiki.txt\n",
    "Wikipedia\n",
    "Apache Spark is an open source cluster computing framework.\n",
    "아파치 스파크는 오픈 소스 클러스터 컴퓨팅 프레임워크이다.\n",
    "Apache Spark Apache Spark Apache Spark Apache Spark\n",
    "Originally developed at the University of California, Berkeley's AMPLab,\n",
    "the Spark codebase was later donated to the Apache Software Foundation,\n",
    "which has maintained it since.\n",
    "Spark provides an interface for programming entire clusters with\n",
    "implicit data parallelism and fault-tolerance."
   ]
  },
  {
   "cell_type": "code",
   "execution_count": 3,
   "metadata": {
    "collapsed": true
   },
   "outputs": [],
   "source": [
    "import os\n",
    "import findspark\n",
    "\n",
    "spark_home = \"C:\\Users\\media\\Downloads\\spark-1.6.0-bin-hadoop2.6\"\n",
    "findspark.init(spark_home)\n",
    "\n",
    "import pyspark\n",
    "\n",
    "conf=pyspark.SparkConf()\n",
    "conf=pyspark.SparkConf().setAppName(\"myApp\")\n",
    "sc = pyspark.SparkContext(conf=conf)"
   ]
  },
  {
   "cell_type": "code",
   "execution_count": 7,
   "metadata": {
    "collapsed": false
   },
   "outputs": [],
   "source": [
    "textFile=sc.textFile(\"ds_spark_wiki.txt\")\n",
    "words = textFile.map(lambda x:x.split(' '))"
   ]
  },
  {
   "cell_type": "code",
   "execution_count": 9,
   "metadata": {
    "collapsed": false
   },
   "outputs": [
    {
     "name": "stdout",
     "output_type": "stream",
     "text": [
      "[[u'Wikipedia'], [u'Apache', u'Spark', u'is', u'an', u'open', u'source', u'cluster', u'computing', u'framework.'], [u'\\uc544\\ud30c\\uce58', u'\\uc2a4\\ud30c\\ud06c\\ub294', u'\\uc624\\ud508', u'\\uc18c\\uc2a4', u'\\ud074\\ub7ec\\uc2a4\\ud130', u'\\ucef4\\ud4e8\\ud305', u'\\ud504\\ub808\\uc784\\uc6cc\\ud06c\\uc774\\ub2e4.'], [u'Apache', u'Spark', u'Apache', u'Spark', u'Apache', u'Spark', u'Apache', u'Spark'], [u'Originally', u'developed', u'at', u'the', u'University', u'of', u'California,', u\"Berkeley's\", u'AMPLab,'], [u'the', u'Spark', u'codebase', u'was', u'later', u'donated', u'to', u'the', u'Apache', u'Software', u'Foundation,'], [u'which', u'has', u'maintained', u'it', u'since.'], [u'Spark', u'provides', u'an', u'interface', u'for', u'programming', u'entire', u'clusters', u'with'], [u'implicit', u'data', u'parallelism', u'and', u'fault-tolerance.']]\n"
     ]
    }
   ],
   "source": [
    "print words.collect()"
   ]
  },
  {
   "cell_type": "code",
   "execution_count": 12,
   "metadata": {
    "collapsed": false
   },
   "outputs": [
    {
     "name": "stdout",
     "output_type": "stream",
     "text": [
      "[9, 59, 32, 51, 72, 71, 30, 64, 46]\n"
     ]
    }
   ],
   "source": [
    "print textFile.map(lambda x:len(x)).collect()"
   ]
  },
  {
   "cell_type": "code",
   "execution_count": 13,
   "metadata": {
    "collapsed": false
   },
   "outputs": [
    {
     "name": "stdout",
     "output_type": "stream",
     "text": [
      "4\n"
     ]
    }
   ],
   "source": [
    "print textFile.filter(lambda line:\"Spark\" in line).count()"
   ]
  },
  {
   "cell_type": "code",
   "execution_count": 15,
   "metadata": {
    "collapsed": false
   },
   "outputs": [
    {
     "name": "stdout",
     "output_type": "stream",
     "text": [
      "[[u'WIKIPEDIA'], [u'APACHE', u'SPARK', u'IS', u'AN', u'OPEN', u'SOURCE', u'CLUSTER', u'COMPUTING', u'FRAMEWORK.'], [u'\\uc544\\ud30c\\uce58', u'\\uc2a4\\ud30c\\ud06c\\ub294', u'\\uc624\\ud508', u'\\uc18c\\uc2a4', u'\\ud074\\ub7ec\\uc2a4\\ud130', u'\\ucef4\\ud4e8\\ud305', u'\\ud504\\ub808\\uc784\\uc6cc\\ud06c\\uc774\\ub2e4.'], [u'APACHE', u'SPARK', u'APACHE', u'SPARK', u'APACHE', u'SPARK', u'APACHE', u'SPARK'], [u'ORIGINALLY', u'DEVELOPED', u'AT', u'THE', u'UNIVERSITY', u'OF', u'CALIFORNIA,', u\"BERKELEY'S\", u'AMPLAB,'], [u'THE', u'SPARK', u'CODEBASE', u'WAS', u'LATER', u'DONATED', u'TO', u'THE', u'APACHE', u'SOFTWARE', u'FOUNDATION,'], [u'WHICH', u'HAS', u'MAINTAINED', u'IT', u'SINCE.'], [u'SPARK', u'PROVIDES', u'AN', u'INTERFACE', u'FOR', u'PROGRAMMING', u'ENTIRE', u'CLUSTERS', u'WITH'], [u'IMPLICIT', u'DATA', u'PARALLELISM', u'AND', u'FAULT-TOLERANCE.']]\n"
     ]
    }
   ],
   "source": [
    "print textFile.map(lambda x:[i.upper() for i in x.split(' ')]).collect()"
   ]
  },
  {
   "cell_type": "code",
   "execution_count": 16,
   "metadata": {
    "collapsed": false
   },
   "outputs": [
    {
     "name": "stdout",
     "output_type": "stream",
     "text": [
      "[[u'W', u'I', u'K', u'I', u'P', u'E', u'D', u'I', u'A'], [u'A', u'P', u'A', u'C', u'H', u'E', u' ', u'S', u'P', u'A', u'R', u'K', u' ', u'I', u'S', u' ', u'A', u'N', u' ', u'O', u'P', u'E', u'N', u' ', u'S', u'O', u'U', u'R', u'C', u'E', u' ', u'C', u'L', u'U', u'S', u'T', u'E', u'R', u' ', u'C', u'O', u'M', u'P', u'U', u'T', u'I', u'N', u'G', u' ', u'F', u'R', u'A', u'M', u'E', u'W', u'O', u'R', u'K', u'.'], [u'\\uc544', u'\\ud30c', u'\\uce58', u' ', u'\\uc2a4', u'\\ud30c', u'\\ud06c', u'\\ub294', u' ', u'\\uc624', u'\\ud508', u' ', u'\\uc18c', u'\\uc2a4', u' ', u'\\ud074', u'\\ub7ec', u'\\uc2a4', u'\\ud130', u' ', u'\\ucef4', u'\\ud4e8', u'\\ud305', u' ', u'\\ud504', u'\\ub808', u'\\uc784', u'\\uc6cc', u'\\ud06c', u'\\uc774', u'\\ub2e4', u'.'], [u'A', u'P', u'A', u'C', u'H', u'E', u' ', u'S', u'P', u'A', u'R', u'K', u' ', u'A', u'P', u'A', u'C', u'H', u'E', u' ', u'S', u'P', u'A', u'R', u'K', u' ', u'A', u'P', u'A', u'C', u'H', u'E', u' ', u'S', u'P', u'A', u'R', u'K', u' ', u'A', u'P', u'A', u'C', u'H', u'E', u' ', u'S', u'P', u'A', u'R', u'K'], [u'O', u'R', u'I', u'G', u'I', u'N', u'A', u'L', u'L', u'Y', u' ', u'D', u'E', u'V', u'E', u'L', u'O', u'P', u'E', u'D', u' ', u'A', u'T', u' ', u'T', u'H', u'E', u' ', u'U', u'N', u'I', u'V', u'E', u'R', u'S', u'I', u'T', u'Y', u' ', u'O', u'F', u' ', u'C', u'A', u'L', u'I', u'F', u'O', u'R', u'N', u'I', u'A', u',', u' ', u'B', u'E', u'R', u'K', u'E', u'L', u'E', u'Y', u\"'\", u'S', u' ', u'A', u'M', u'P', u'L', u'A', u'B', u','], [u'T', u'H', u'E', u' ', u'S', u'P', u'A', u'R', u'K', u' ', u'C', u'O', u'D', u'E', u'B', u'A', u'S', u'E', u' ', u'W', u'A', u'S', u' ', u'L', u'A', u'T', u'E', u'R', u' ', u'D', u'O', u'N', u'A', u'T', u'E', u'D', u' ', u'T', u'O', u' ', u'T', u'H', u'E', u' ', u'A', u'P', u'A', u'C', u'H', u'E', u' ', u'S', u'O', u'F', u'T', u'W', u'A', u'R', u'E', u' ', u'F', u'O', u'U', u'N', u'D', u'A', u'T', u'I', u'O', u'N', u','], [u'W', u'H', u'I', u'C', u'H', u' ', u'H', u'A', u'S', u' ', u'M', u'A', u'I', u'N', u'T', u'A', u'I', u'N', u'E', u'D', u' ', u'I', u'T', u' ', u'S', u'I', u'N', u'C', u'E', u'.'], [u'S', u'P', u'A', u'R', u'K', u' ', u'P', u'R', u'O', u'V', u'I', u'D', u'E', u'S', u' ', u'A', u'N', u' ', u'I', u'N', u'T', u'E', u'R', u'F', u'A', u'C', u'E', u' ', u'F', u'O', u'R', u' ', u'P', u'R', u'O', u'G', u'R', u'A', u'M', u'M', u'I', u'N', u'G', u' ', u'E', u'N', u'T', u'I', u'R', u'E', u' ', u'C', u'L', u'U', u'S', u'T', u'E', u'R', u'S', u' ', u'W', u'I', u'T', u'H'], [u'I', u'M', u'P', u'L', u'I', u'C', u'I', u'T', u' ', u'D', u'A', u'T', u'A', u' ', u'P', u'A', u'R', u'A', u'L', u'L', u'E', u'L', u'I', u'S', u'M', u' ', u'A', u'N', u'D', u' ', u'F', u'A', u'U', u'L', u'T', u'-', u'T', u'O', u'L', u'E', u'R', u'A', u'N', u'C', u'E', u'.']]\n"
     ]
    }
   ],
   "source": [
    "print textFile.map(lambda x:[i.upper() for i in x]).collect()"
   ]
  }
 ],
 "metadata": {
  "anaconda-cloud": {},
  "kernelspec": {
   "display_name": "Python [conda root]",
   "language": "python",
   "name": "conda-root-py"
  },
  "language_info": {
   "codemirror_mode": {
    "name": "ipython",
    "version": 2
   },
   "file_extension": ".py",
   "mimetype": "text/x-python",
   "name": "python",
   "nbconvert_exporter": "python",
   "pygments_lexer": "ipython2",
   "version": "2.7.12"
  }
 },
 "nbformat": 4,
 "nbformat_minor": 1
}
