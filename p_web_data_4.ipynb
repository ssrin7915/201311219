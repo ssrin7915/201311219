{
 "cells": [
  {
   "cell_type": "markdown",
   "metadata": {},
   "source": [
    "## 웹데이터-4:한국 포털사이트에서 노래제목을 검색 ##"
   ]
  },
  {
   "cell_type": "markdown",
   "metadata": {},
   "source": [
    "# regex #"
   ]
  },
  {
   "cell_type": "code",
   "execution_count": 39,
   "metadata": {
    "collapsed": false
   },
   "outputs": [],
   "source": [
    "import urllib"
   ]
  },
  {
   "cell_type": "code",
   "execution_count": 40,
   "metadata": {
    "collapsed": true
   },
   "outputs": [],
   "source": [
    "keyword='가을'\n",
    "s = urllib.urlopen('http://music.naver.com/search/search.nhn?query='+keyword+'&target=track')"
   ]
  },
  {
   "cell_type": "code",
   "execution_count": 41,
   "metadata": {
    "collapsed": true
   },
   "outputs": [],
   "source": [
    "mydata = s.read()"
   ]
  },
  {
   "cell_type": "code",
   "execution_count": 17,
   "metadata": {
    "collapsed": true
   },
   "outputs": [],
   "source": [
    "import re"
   ]
  },
  {
   "cell_type": "code",
   "execution_count": 23,
   "metadata": {
    "collapsed": true
   },
   "outputs": [],
   "source": [
    "p=re.compile('title=\".*가을.*\"') # ~가을~ "
   ]
  },
  {
   "cell_type": "code",
   "execution_count": 19,
   "metadata": {
    "collapsed": true
   },
   "outputs": [],
   "source": [
    "res=p.findall(mydata)"
   ]
  },
  {
   "cell_type": "code",
   "execution_count": 21,
   "metadata": {
    "collapsed": false,
    "scrolled": true
   },
   "outputs": [
    {
     "name": "stdout",
     "output_type": "stream",
     "text": [
      "title=\"검색어 입력\" value=\"가을\" maxlength=\"50\" accesskey=\"s\"\n",
      "title=\"가을\" ><span class=\"ellipsis\"\n",
      "title=\"가을동요\"\n",
      "title=\"빅히트 가을 인기동요 Best\" class=\"_album NPI=a:album,r:1,i:449008\"><span class=\"ellipsis\"\n",
      "title=\"가을 (Autumn)\" ><span class=\"ellipsis\"\n",
      "title=\"가을\" ><span class=\"ellipsis\"\n",
      "title=\"가을\" ><span class=\"ellipsis\"\n",
      "title=\"가을\" class=\"_album NPI=a:album,r:10,i:453287\"><span class=\"ellipsis\"\n",
      "title=\"가을\" ><span class=\"ellipsis\"\n",
      "title=\"프리미엄 인기 가을동요 - 가을소풍\" class=\"_album NPI=a:album,r:11,i:394867\"><span class=\"ellipsis\"\n",
      "title=\"가을\" ><span class=\"ellipsis\"\n",
      "title=\"가을\" ><span class=\"ellipsis\"\n",
      "title=\"가을동요 어린이집 키즈카페 인기동요 50\" class=\"_album NPI=a:album,r:13,i:660616\"><span class=\"ellipsis\"\n",
      "title=\"가을 (節氣)\" ><span class=\"ellipsis\"\n",
      "title=\"가을\"\n",
      "title=\"가을\" ><span class=\"ellipsis\"\n",
      "title=\"가을\" ><span class=\"ellipsis\"\n",
      "title=\"황병기:: 가을 -- 1장\" ><span class=\"ellipsis\"\n",
      "title=\"가을 (금상)\" ><span class=\"ellipsis\"\n",
      "title=\"가을\" ><span class=\"ellipsis\"\n",
      "title=\"가을\" class=\"_album NPI=a:album,r:21,i:600470\"><span class=\"ellipsis\"\n",
      "title=\"가을\" class=\"_album NPI=a:album,r:22,i:453287\"><span class=\"ellipsis\"\n",
      "title=\"가을(Fall)\" ><span class=\"ellipsis\"\n",
      "title=\"가을\" ><span class=\"ellipsis\"\n",
      "title=\"가을\" class=\"_album NPI=a:album,r:26,i:453287\"><span class=\"ellipsis\"\n",
      "title=\"가을\" ><span class=\"ellipsis\"\n",
      "title=\"가을\" ><span class=\"ellipsis\"\n",
      "title=\"가을 (Piano Solo Ver.)\" ><span class=\"ellipsis\"\n",
      "title=\"가을\" ><span class=\"ellipsis\"\n",
      "title=\"가을 (금상)\" ><span class=\"ellipsis\"\n",
      "title=\"가을\" ><span class=\"ellipsis\"\n",
      "title=\"황의종:: 가을 -- 빠르게\" ><span class=\"ellipsis\"\n",
      "title=\"가을\" ><span class=\"ellipsis\"\n",
      "title=\"가을\" ><span class=\"ellipsis\"\n",
      "title=\"가을\" class=\"_album NPI=a:album,r:36,i:592102\"><span class=\"ellipsis\"\n",
      "title=\"가을\" ><span class=\"ellipsis\"\n",
      "title=\"가을\" ><span class=\"ellipsis\"\n",
      "title=\"부릉부릉 창작동요 - 가을\" class=\"_album NPI=a:album,r:38,i:455705\"><span class=\"ellipsis\"\n",
      "title=\"가을\" ><span class=\"ellipsis\"\n",
      "title=\"가을 (Inst.)\" ><span class=\"ellipsis\"\n",
      "title=\"EQ쏙쏙 유아동요 - 가을\" class=\"_album NPI=a:album,r:40,i:585562\"><span class=\"ellipsis\"\n",
      "title=\"가을 (Autumn)\" ><span class=\"ellipsis\"\n",
      "title=\"가을\" ><span class=\"ellipsis\"\n",
      "title=\"가을\" ><span class=\"ellipsis\"\n",
      "title=\"가을\" ><span class=\"ellipsis\"\n",
      "title=\"가을\" ><span class=\"ellipsis\"\n",
      "title=\"가을\" ><span class=\"ellipsis\"\n",
      "title=\"가을\" ><span class=\"ellipsis\"\n",
      "title=\"내가 좋아하는 가을동요 BEST\" class=\"_album NPI=a:album,r:47,i:450650\"><span class=\"ellipsis\"\n",
      "title=\"가을\" ><span class=\"ellipsis\"\n",
      "title=\"황의종:: 가을 -- 타령\" ><span class=\"ellipsis\"\n",
      "title=\"가을-사랑하면서도\" ><span class=\"ellipsis\"\n"
     ]
    }
   ],
   "source": [
    "for item in res:\n",
    "    print item"
   ]
  },
  {
   "cell_type": "markdown",
   "metadata": {},
   "source": [
    "# CSS selector #"
   ]
  },
  {
   "cell_type": "code",
   "execution_count": 42,
   "metadata": {
    "collapsed": true
   },
   "outputs": [],
   "source": [
    "import lxml.html\n",
    "from lxml.cssselect import CSSSelector"
   ]
  },
  {
   "cell_type": "code",
   "execution_count": 43,
   "metadata": {
    "collapsed": false
   },
   "outputs": [],
   "source": [
    "_html = lxml.html.fromstring(mydata)"
   ]
  },
  {
   "cell_type": "code",
   "execution_count": 53,
   "metadata": {
    "collapsed": false
   },
   "outputs": [],
   "source": [
    "sel = CSSSelector('#content > div.section > div._tracklist_mytrack.tracklist_table._searchTrack > table > tbody > tr > td.name > a.title')"
   ]
  },
  {
   "cell_type": "code",
   "execution_count": 54,
   "metadata": {
    "collapsed": true
   },
   "outputs": [],
   "source": [
    "results = sel(_html)"
   ]
  },
  {
   "cell_type": "code",
   "execution_count": 55,
   "metadata": {
    "collapsed": false,
    "scrolled": true
   },
   "outputs": [
    {
     "name": "stdout",
     "output_type": "stream",
     "text": [
      "가을\n",
      "키도 작고, 예쁘지 않지만..\n",
      "가을 (Autumn)\n",
      "가을\n",
      "가을\n",
      "두비두바\n",
      "한 여자\n",
      "키도 작고, 예쁘지 않지만.. (Inst.)\n",
      "한 여자\n",
      "밀과 보리가 자라네\n",
      "가을\n",
      "가을\n",
      "가을\n",
      "가을 (節氣)\n",
      "가을\n",
      "가을\n",
      "황병기:: 가을 -- 1장\n",
      "가을 (금상)\n",
      "가을\n",
      "두비두바 (Inst.)\n",
      "잠깐 눈물 좀 닦고\n",
      "잠자리 잡으러가자\n",
      "가을(Fall)\n",
      "가을\n",
      "오빠바보 (Inst.)\n",
      "뱅글뱅글 돌아서\n",
      "가을\n",
      "가을\n",
      "가을 (Piano Solo Ver.)\n",
      "가을\n",
      "가을 (금상)\n",
      "잘해준 것 밖에 없는데 (Inst.)\n",
      "가을\n",
      "황의종:: 가을 -- 빠르게\n",
      "가을\n",
      "가을\n",
      "가을\n",
      "가을\n",
      "가을\n",
      "가을 (Inst.)\n",
      "가을 (Autumn)\n",
      "가을\n",
      "가을\n",
      "가을\n",
      "가을\n",
      "가을\n",
      "가을\n",
      "가을\n",
      "황의종:: 가을 -- 타령\n",
      "가을-사랑하면서도\n"
     ]
    }
   ],
   "source": [
    "for result in results:\n",
    "    print result.text_content()"
   ]
  }
 ],
 "metadata": {
  "kernelspec": {
   "display_name": "Python [Root]",
   "language": "python",
   "name": "Python [Root]"
  },
  "language_info": {
   "codemirror_mode": {
    "name": "ipython",
    "version": 2
   },
   "file_extension": ".py",
   "mimetype": "text/x-python",
   "name": "python",
   "nbconvert_exporter": "python",
   "pygments_lexer": "ipython2",
   "version": "2.7.12"
  }
 },
 "nbformat": 4,
 "nbformat_minor": 0
}
