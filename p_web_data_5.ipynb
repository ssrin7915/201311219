{
 "cells": [
  {
   "cell_type": "markdown",
   "metadata": {},
   "source": [
    "# 웹데이터-5: 국제학회 목록을 크롤링하기 #"
   ]
  },
  {
   "cell_type": "code",
   "execution_count": 2,
   "metadata": {
    "collapsed": false
   },
   "outputs": [],
   "source": [
    "#CSSSelector\n",
    "import lxml.html\n",
    "from lxml.cssselect import CSSSelector\n",
    "import requests"
   ]
  },
  {
   "cell_type": "code",
   "execution_count": 3,
   "metadata": {
    "collapsed": true
   },
   "outputs": [],
   "source": [
    "r= requests.get('https://www.ieee.org/conferences_events/index.html')\n",
    "html=lxml.html.fromstring(r.text)"
   ]
  },
  {
   "cell_type": "code",
   "execution_count": 38,
   "metadata": {
    "collapsed": false
   },
   "outputs": [],
   "source": [
    "header=CSSSelector('#inner-container > div.content-gray > div.content-lc > div.content-lc-bottom > div.content-c > div > div > h2 > a')"
   ]
  },
  {
   "cell_type": "code",
   "execution_count": 39,
   "metadata": {
    "collapsed": true
   },
   "outputs": [],
   "source": [
    "up_c=CSSSelector('#inner-container > div.content-gray > div.content-lc > div.content-lc-bottom > div.content-c > div:nth-child(1) > div > div:nth-child(2) > p > a')"
   ]
  },
  {
   "cell_type": "code",
   "execution_count": 40,
   "metadata": {
    "collapsed": true
   },
   "outputs": [],
   "source": [
    "r_c=CSSSelector('#inner-container > div.content-gray > div.content-lc > div.content-lc-bottom > div.content-c > div:nth-child(2) > div > div:nth-child(2) > p ')"
   ]
  },
  {
   "cell_type": "code",
   "execution_count": 44,
   "metadata": {
    "collapsed": false,
    "scrolled": true
   },
   "outputs": [
    {
     "name": "stdout",
     "output_type": "stream",
     "text": [
      "---Upcoming conferences---\n",
      "2016 IEEE Healthcare Innovation Point-Of-Care Technologies Conference (HI-POCT)\n",
      "2016 IEEE International Conference on Smart Grid Communications (SmartGridComm) \n",
      "2016 IEEE 19th International Conference on Intelligent Transportation Systems (ITSC)\n",
      "MILCOM 2016 - 2016 IEEE Military Communications Conference (MILCOM)\n",
      "\n",
      "---Running an IEEE conference---\n",
      "\n",
      "\n",
      "If you are interested in organizing an IEEE conference, contact: IEEE Meetings, Conferences & Events (IEEE MCE): Phone: +1 855 340 4333, +1 732 562 3878 Email: ieee-mce@ieee.org\n",
      "\n",
      "For event management solutions, contact:  MCE Event Management Services: Phone: +1 800 810 IEEE (4333); +1 732 465 7810 Email: mce-sales@ieee.org\n",
      "\n",
      "Resources for conference organizers\n",
      "\n"
     ]
    }
   ],
   "source": [
    "result_h=header(html) \n",
    "results_c=up_c(html)#upcoming conferences\n",
    "results_r=r_c(html)#running conferences\n",
    "\n",
    "print \"---\"+result_h[0].text+\"---\"#upcoming conferences\n",
    "for item in results_c:\n",
    "    print item.text\n",
    "\n",
    "print \"\"\n",
    "print \"---\"+result_h[1].text+\"---\"#running conferences\n",
    "for item in results_r:\n",
    "    print item.text_content()\n",
    "    print \"\""
   ]
  }
 ],
 "metadata": {
  "anaconda-cloud": {},
  "kernelspec": {
   "display_name": "Python [conda root]",
   "language": "python",
   "name": "conda-root-py"
  },
  "language_info": {
   "codemirror_mode": {
    "name": "ipython",
    "version": 2
   },
   "file_extension": ".py",
   "mimetype": "text/x-python",
   "name": "python",
   "nbconvert_exporter": "python",
   "pygments_lexer": "ipython2",
   "version": "2.7.12"
  }
 },
 "nbformat": 4,
 "nbformat_minor": 1
}
